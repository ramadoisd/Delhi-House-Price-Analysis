{
 "cells": [
  {
   "cell_type": "markdown",
   "id": "adeebe72-5764-4ba5-968c-ccbe69ad0139",
   "metadata": {},
   "source": [
    "# Delhi Houses Price Analysis"
   ]
  },
  {
   "cell_type": "markdown",
   "id": "9e4ee036-4821-4a0c-97a9-df6bf991af7a",
   "metadata": {},
   "source": [
    "Columns Description\n",
    "\n",
    "1. Area       : Area of the Property in square feet\n",
    "2. BHK        : No. of Bedrooms along with 1 Hall and 1 kitchen\n",
    "3. Bathroom   : No. of Bathrooms\n",
    "4. Furnishing : Whether listed property is furnished , unfurnished or semi furnished\n",
    "5. Locality   : Locality in which property lies\n",
    "6. Parking    : No. of parking available\n",
    "7. Price      : This is the Price of property in INR\n",
    "8. Status     : property's status as in 'ready to move' or still under construction\n",
    "9. Transaction: Its a new property or being re-sold\n",
    "10. Type      : Its an Apartment or Builder Floor\n",
    "11. Per_Sqft  : Price per square feet\n"
   ]
  },
  {
   "cell_type": "markdown",
   "id": "391156c3-ba03-47d5-86df-563e8e86b756",
   "metadata": {},
   "source": [
    "##### LinkedIn: https://www.linkedin.com/in/ramado-isdianto-23a896176/"
   ]
  },
  {
   "cell_type": "markdown",
   "id": "201edfd3-7b5c-439f-a8ae-750c5782ca85",
   "metadata": {},
   "source": [
    "# Load Dataset"
   ]
  },
  {
   "cell_type": "code",
   "execution_count": 1,
   "id": "d1b356b4-e2c4-4158-b529-bb9606066ee2",
   "metadata": {},
   "outputs": [],
   "source": [
    "import numpy as np\n",
    "import pandas as pd\n",
    "import matplotlib.pyplot as plt\n",
    "from matplotlib import rcParams\n",
    "import seaborn as sns"
   ]
  },
  {
   "cell_type": "code",
   "execution_count": 2,
   "id": "935d5c11-56f9-47bc-8301-ded002d7744a",
   "metadata": {},
   "outputs": [],
   "source": [
    "df = pd.read_csv('MagicBricks.csv')"
   ]
  },
  {
   "cell_type": "code",
   "execution_count": 3,
   "id": "2ef5acea-676d-49a2-b482-aaa14857e08b",
   "metadata": {},
   "outputs": [
    {
     "data": {
      "text/html": [
       "<div>\n",
       "<style scoped>\n",
       "    .dataframe tbody tr th:only-of-type {\n",
       "        vertical-align: middle;\n",
       "    }\n",
       "\n",
       "    .dataframe tbody tr th {\n",
       "        vertical-align: top;\n",
       "    }\n",
       "\n",
       "    .dataframe thead th {\n",
       "        text-align: right;\n",
       "    }\n",
       "</style>\n",
       "<table border=\"1\" class=\"dataframe\">\n",
       "  <thead>\n",
       "    <tr style=\"text-align: right;\">\n",
       "      <th></th>\n",
       "      <th>0</th>\n",
       "      <th>1</th>\n",
       "      <th>2</th>\n",
       "      <th>3</th>\n",
       "      <th>4</th>\n",
       "      <th>5</th>\n",
       "      <th>6</th>\n",
       "      <th>7</th>\n",
       "      <th>8</th>\n",
       "      <th>9</th>\n",
       "      <th>...</th>\n",
       "      <th>1249</th>\n",
       "      <th>1250</th>\n",
       "      <th>1251</th>\n",
       "      <th>1252</th>\n",
       "      <th>1253</th>\n",
       "      <th>1254</th>\n",
       "      <th>1255</th>\n",
       "      <th>1256</th>\n",
       "      <th>1257</th>\n",
       "      <th>1258</th>\n",
       "    </tr>\n",
       "  </thead>\n",
       "  <tbody>\n",
       "    <tr>\n",
       "      <th>Area</th>\n",
       "      <td>800.0</td>\n",
       "      <td>750.0</td>\n",
       "      <td>950.0</td>\n",
       "      <td>600.0</td>\n",
       "      <td>650.0</td>\n",
       "      <td>1300.0</td>\n",
       "      <td>1350.0</td>\n",
       "      <td>650.0</td>\n",
       "      <td>985.0</td>\n",
       "      <td>1300.0</td>\n",
       "      <td>...</td>\n",
       "      <td>1900.0</td>\n",
       "      <td>1800.0</td>\n",
       "      <td>1200.0</td>\n",
       "      <td>1800.0</td>\n",
       "      <td>1200.0</td>\n",
       "      <td>4118.0</td>\n",
       "      <td>1050.0</td>\n",
       "      <td>875.0</td>\n",
       "      <td>990.0</td>\n",
       "      <td>11050.0</td>\n",
       "    </tr>\n",
       "    <tr>\n",
       "      <th>BHK</th>\n",
       "      <td>3</td>\n",
       "      <td>2</td>\n",
       "      <td>2</td>\n",
       "      <td>2</td>\n",
       "      <td>2</td>\n",
       "      <td>4</td>\n",
       "      <td>4</td>\n",
       "      <td>2</td>\n",
       "      <td>3</td>\n",
       "      <td>4</td>\n",
       "      <td>...</td>\n",
       "      <td>3</td>\n",
       "      <td>3</td>\n",
       "      <td>3</td>\n",
       "      <td>3</td>\n",
       "      <td>3</td>\n",
       "      <td>4</td>\n",
       "      <td>3</td>\n",
       "      <td>3</td>\n",
       "      <td>2</td>\n",
       "      <td>3</td>\n",
       "    </tr>\n",
       "    <tr>\n",
       "      <th>Bathroom</th>\n",
       "      <td>2.0</td>\n",
       "      <td>2.0</td>\n",
       "      <td>2.0</td>\n",
       "      <td>2.0</td>\n",
       "      <td>2.0</td>\n",
       "      <td>3.0</td>\n",
       "      <td>3.0</td>\n",
       "      <td>2.0</td>\n",
       "      <td>3.0</td>\n",
       "      <td>4.0</td>\n",
       "      <td>...</td>\n",
       "      <td>4.0</td>\n",
       "      <td>3.0</td>\n",
       "      <td>2.0</td>\n",
       "      <td>3.0</td>\n",
       "      <td>3.0</td>\n",
       "      <td>5.0</td>\n",
       "      <td>2.0</td>\n",
       "      <td>3.0</td>\n",
       "      <td>2.0</td>\n",
       "      <td>3.0</td>\n",
       "    </tr>\n",
       "    <tr>\n",
       "      <th>Furnishing</th>\n",
       "      <td>Semi-Furnished</td>\n",
       "      <td>Semi-Furnished</td>\n",
       "      <td>Furnished</td>\n",
       "      <td>Semi-Furnished</td>\n",
       "      <td>Semi-Furnished</td>\n",
       "      <td>Semi-Furnished</td>\n",
       "      <td>Semi-Furnished</td>\n",
       "      <td>Semi-Furnished</td>\n",
       "      <td>Unfurnished</td>\n",
       "      <td>Semi-Furnished</td>\n",
       "      <td>...</td>\n",
       "      <td>Semi-Furnished</td>\n",
       "      <td>Semi-Furnished</td>\n",
       "      <td>Semi-Furnished</td>\n",
       "      <td>Semi-Furnished</td>\n",
       "      <td>Semi-Furnished</td>\n",
       "      <td>Unfurnished</td>\n",
       "      <td>Semi-Furnished</td>\n",
       "      <td>Semi-Furnished</td>\n",
       "      <td>Unfurnished</td>\n",
       "      <td>Unfurnished</td>\n",
       "    </tr>\n",
       "    <tr>\n",
       "      <th>Locality</th>\n",
       "      <td>Rohini Sector 25</td>\n",
       "      <td>J R Designers Floors, Rohini Sector 24</td>\n",
       "      <td>Citizen Apartment, Rohini Sector 13</td>\n",
       "      <td>Rohini Sector 24</td>\n",
       "      <td>Rohini Sector 24 carpet area 650 sqft status R...</td>\n",
       "      <td>Rohini Sector 24</td>\n",
       "      <td>Rohini Sector 24</td>\n",
       "      <td>Delhi Homes, Rohini Sector 24</td>\n",
       "      <td>Rohini Sector 21</td>\n",
       "      <td>Rohini Sector 22</td>\n",
       "      <td>...</td>\n",
       "      <td>Chittaranjan Park</td>\n",
       "      <td>Chittaranjan Park</td>\n",
       "      <td>Chittaranjan Park</td>\n",
       "      <td>Nehru Enclave, Kalkaji</td>\n",
       "      <td>Chittaranjan Park</td>\n",
       "      <td>Chittaranjan Park</td>\n",
       "      <td>Chittaranjan Park</td>\n",
       "      <td>Chittaranjan Park</td>\n",
       "      <td>Chittaranjan Park Block A</td>\n",
       "      <td>Chittaranjan Park</td>\n",
       "    </tr>\n",
       "    <tr>\n",
       "      <th>Parking</th>\n",
       "      <td>1.0</td>\n",
       "      <td>1.0</td>\n",
       "      <td>1.0</td>\n",
       "      <td>1.0</td>\n",
       "      <td>1.0</td>\n",
       "      <td>1.0</td>\n",
       "      <td>1.0</td>\n",
       "      <td>1.0</td>\n",
       "      <td>1.0</td>\n",
       "      <td>1.0</td>\n",
       "      <td>...</td>\n",
       "      <td>2.0</td>\n",
       "      <td>2.0</td>\n",
       "      <td>1.0</td>\n",
       "      <td>1.0</td>\n",
       "      <td>1.0</td>\n",
       "      <td>3.0</td>\n",
       "      <td>3.0</td>\n",
       "      <td>3.0</td>\n",
       "      <td>1.0</td>\n",
       "      <td>1.0</td>\n",
       "    </tr>\n",
       "    <tr>\n",
       "      <th>Price</th>\n",
       "      <td>6500000</td>\n",
       "      <td>5000000</td>\n",
       "      <td>15500000</td>\n",
       "      <td>4200000</td>\n",
       "      <td>6200000</td>\n",
       "      <td>15500000</td>\n",
       "      <td>10000000</td>\n",
       "      <td>4000000</td>\n",
       "      <td>6800000</td>\n",
       "      <td>15000000</td>\n",
       "      <td>...</td>\n",
       "      <td>28500000</td>\n",
       "      <td>29000000</td>\n",
       "      <td>15500000</td>\n",
       "      <td>26000000</td>\n",
       "      <td>16500000</td>\n",
       "      <td>55000000</td>\n",
       "      <td>12500000</td>\n",
       "      <td>17500000</td>\n",
       "      <td>11500000</td>\n",
       "      <td>18500000</td>\n",
       "    </tr>\n",
       "    <tr>\n",
       "      <th>Status</th>\n",
       "      <td>Ready_to_move</td>\n",
       "      <td>Ready_to_move</td>\n",
       "      <td>Ready_to_move</td>\n",
       "      <td>Ready_to_move</td>\n",
       "      <td>Ready_to_move</td>\n",
       "      <td>Ready_to_move</td>\n",
       "      <td>Ready_to_move</td>\n",
       "      <td>Ready_to_move</td>\n",
       "      <td>Almost_ready</td>\n",
       "      <td>Ready_to_move</td>\n",
       "      <td>...</td>\n",
       "      <td>Ready_to_move</td>\n",
       "      <td>Ready_to_move</td>\n",
       "      <td>Ready_to_move</td>\n",
       "      <td>Ready_to_move</td>\n",
       "      <td>Ready_to_move</td>\n",
       "      <td>Ready_to_move</td>\n",
       "      <td>Ready_to_move</td>\n",
       "      <td>Ready_to_move</td>\n",
       "      <td>Ready_to_move</td>\n",
       "      <td>Ready_to_move</td>\n",
       "    </tr>\n",
       "    <tr>\n",
       "      <th>Transaction</th>\n",
       "      <td>New_Property</td>\n",
       "      <td>New_Property</td>\n",
       "      <td>Resale</td>\n",
       "      <td>Resale</td>\n",
       "      <td>New_Property</td>\n",
       "      <td>New_Property</td>\n",
       "      <td>Resale</td>\n",
       "      <td>New_Property</td>\n",
       "      <td>New_Property</td>\n",
       "      <td>New_Property</td>\n",
       "      <td>...</td>\n",
       "      <td>New_Property</td>\n",
       "      <td>Resale</td>\n",
       "      <td>Resale</td>\n",
       "      <td>Resale</td>\n",
       "      <td>Resale</td>\n",
       "      <td>New_Property</td>\n",
       "      <td>Resale</td>\n",
       "      <td>New_Property</td>\n",
       "      <td>Resale</td>\n",
       "      <td>New_Property</td>\n",
       "    </tr>\n",
       "    <tr>\n",
       "      <th>Type</th>\n",
       "      <td>Builder_Floor</td>\n",
       "      <td>Apartment</td>\n",
       "      <td>Apartment</td>\n",
       "      <td>Builder_Floor</td>\n",
       "      <td>Builder_Floor</td>\n",
       "      <td>Builder_Floor</td>\n",
       "      <td>Builder_Floor</td>\n",
       "      <td>Apartment</td>\n",
       "      <td>Builder_Floor</td>\n",
       "      <td>Builder_Floor</td>\n",
       "      <td>...</td>\n",
       "      <td>Builder_Floor</td>\n",
       "      <td>Builder_Floor</td>\n",
       "      <td>Builder_Floor</td>\n",
       "      <td>Builder_Floor</td>\n",
       "      <td>Builder_Floor</td>\n",
       "      <td>Builder_Floor</td>\n",
       "      <td>Builder_Floor</td>\n",
       "      <td>Builder_Floor</td>\n",
       "      <td>Builder_Floor</td>\n",
       "      <td>Builder_Floor</td>\n",
       "    </tr>\n",
       "    <tr>\n",
       "      <th>Per_Sqft</th>\n",
       "      <td>NaN</td>\n",
       "      <td>6667.0</td>\n",
       "      <td>6667.0</td>\n",
       "      <td>6667.0</td>\n",
       "      <td>6667.0</td>\n",
       "      <td>6667.0</td>\n",
       "      <td>6667.0</td>\n",
       "      <td>6154.0</td>\n",
       "      <td>6154.0</td>\n",
       "      <td>6154.0</td>\n",
       "      <td>...</td>\n",
       "      <td>6878.0</td>\n",
       "      <td>6878.0</td>\n",
       "      <td>12916.0</td>\n",
       "      <td>12916.0</td>\n",
       "      <td>12916.0</td>\n",
       "      <td>12916.0</td>\n",
       "      <td>12916.0</td>\n",
       "      <td>12916.0</td>\n",
       "      <td>12916.0</td>\n",
       "      <td>12916.0</td>\n",
       "    </tr>\n",
       "  </tbody>\n",
       "</table>\n",
       "<p>11 rows × 1259 columns</p>\n",
       "</div>"
      ],
      "text/plain": [
       "                         0                                       1     \\\n",
       "Area                    800.0                                   750.0   \n",
       "BHK                         3                                       2   \n",
       "Bathroom                  2.0                                     2.0   \n",
       "Furnishing     Semi-Furnished                          Semi-Furnished   \n",
       "Locality     Rohini Sector 25  J R Designers Floors, Rohini Sector 24   \n",
       "Parking                   1.0                                     1.0   \n",
       "Price                 6500000                                 5000000   \n",
       "Status          Ready_to_move                           Ready_to_move   \n",
       "Transaction      New_Property                            New_Property   \n",
       "Type            Builder_Floor                               Apartment   \n",
       "Per_Sqft                  NaN                                  6667.0   \n",
       "\n",
       "                                            2                 3     \\\n",
       "Area                                       950.0             600.0   \n",
       "BHK                                            2                 2   \n",
       "Bathroom                                     2.0               2.0   \n",
       "Furnishing                             Furnished    Semi-Furnished   \n",
       "Locality     Citizen Apartment, Rohini Sector 13  Rohini Sector 24   \n",
       "Parking                                      1.0               1.0   \n",
       "Price                                   15500000           4200000   \n",
       "Status                             Ready_to_move     Ready_to_move   \n",
       "Transaction                               Resale            Resale   \n",
       "Type                                   Apartment     Builder_Floor   \n",
       "Per_Sqft                                  6667.0            6667.0   \n",
       "\n",
       "                                                          4     \\\n",
       "Area                                                     650.0   \n",
       "BHK                                                          2   \n",
       "Bathroom                                                   2.0   \n",
       "Furnishing                                      Semi-Furnished   \n",
       "Locality     Rohini Sector 24 carpet area 650 sqft status R...   \n",
       "Parking                                                    1.0   \n",
       "Price                                                  6200000   \n",
       "Status                                           Ready_to_move   \n",
       "Transaction                                       New_Property   \n",
       "Type                                             Builder_Floor   \n",
       "Per_Sqft                                                6667.0   \n",
       "\n",
       "                         5                 6     \\\n",
       "Area                   1300.0            1350.0   \n",
       "BHK                         4                 4   \n",
       "Bathroom                  3.0               3.0   \n",
       "Furnishing     Semi-Furnished    Semi-Furnished   \n",
       "Locality     Rohini Sector 24  Rohini Sector 24   \n",
       "Parking                   1.0               1.0   \n",
       "Price                15500000          10000000   \n",
       "Status          Ready_to_move     Ready_to_move   \n",
       "Transaction      New_Property            Resale   \n",
       "Type            Builder_Floor     Builder_Floor   \n",
       "Per_Sqft               6667.0            6667.0   \n",
       "\n",
       "                                      7                 8     \\\n",
       "Area                                 650.0             985.0   \n",
       "BHK                                      2                 3   \n",
       "Bathroom                               2.0               3.0   \n",
       "Furnishing                  Semi-Furnished       Unfurnished   \n",
       "Locality     Delhi Homes, Rohini Sector 24  Rohini Sector 21   \n",
       "Parking                                1.0               1.0   \n",
       "Price                              4000000           6800000   \n",
       "Status                       Ready_to_move      Almost_ready   \n",
       "Transaction                   New_Property      New_Property   \n",
       "Type                             Apartment     Builder_Floor   \n",
       "Per_Sqft                            6154.0            6154.0   \n",
       "\n",
       "                         9     ...               1249               1250  \\\n",
       "Area                   1300.0  ...             1900.0             1800.0   \n",
       "BHK                         4  ...                  3                  3   \n",
       "Bathroom                  4.0  ...                4.0                3.0   \n",
       "Furnishing     Semi-Furnished  ...     Semi-Furnished     Semi-Furnished   \n",
       "Locality     Rohini Sector 22  ...  Chittaranjan Park  Chittaranjan Park   \n",
       "Parking                   1.0  ...                2.0                2.0   \n",
       "Price                15000000  ...           28500000           29000000   \n",
       "Status          Ready_to_move  ...      Ready_to_move      Ready_to_move   \n",
       "Transaction      New_Property  ...       New_Property             Resale   \n",
       "Type            Builder_Floor  ...      Builder_Floor      Builder_Floor   \n",
       "Per_Sqft               6154.0  ...             6878.0             6878.0   \n",
       "\n",
       "                          1251                    1252               1253  \\\n",
       "Area                    1200.0                  1800.0             1200.0   \n",
       "BHK                          3                       3                  3   \n",
       "Bathroom                   2.0                     3.0                3.0   \n",
       "Furnishing      Semi-Furnished          Semi-Furnished     Semi-Furnished   \n",
       "Locality     Chittaranjan Park  Nehru Enclave, Kalkaji  Chittaranjan Park   \n",
       "Parking                    1.0                     1.0                1.0   \n",
       "Price                 15500000                26000000           16500000   \n",
       "Status           Ready_to_move           Ready_to_move      Ready_to_move   \n",
       "Transaction             Resale                  Resale             Resale   \n",
       "Type             Builder_Floor           Builder_Floor      Builder_Floor   \n",
       "Per_Sqft               12916.0                 12916.0            12916.0   \n",
       "\n",
       "                          1254               1255               1256  \\\n",
       "Area                    4118.0             1050.0              875.0   \n",
       "BHK                          4                  3                  3   \n",
       "Bathroom                   5.0                2.0                3.0   \n",
       "Furnishing         Unfurnished     Semi-Furnished     Semi-Furnished   \n",
       "Locality     Chittaranjan Park  Chittaranjan Park  Chittaranjan Park   \n",
       "Parking                    3.0                3.0                3.0   \n",
       "Price                 55000000           12500000           17500000   \n",
       "Status           Ready_to_move      Ready_to_move      Ready_to_move   \n",
       "Transaction       New_Property             Resale       New_Property   \n",
       "Type             Builder_Floor      Builder_Floor      Builder_Floor   \n",
       "Per_Sqft               12916.0            12916.0            12916.0   \n",
       "\n",
       "                                  1257               1258  \n",
       "Area                             990.0            11050.0  \n",
       "BHK                                  2                  3  \n",
       "Bathroom                           2.0                3.0  \n",
       "Furnishing                 Unfurnished        Unfurnished  \n",
       "Locality     Chittaranjan Park Block A  Chittaranjan Park  \n",
       "Parking                            1.0                1.0  \n",
       "Price                         11500000           18500000  \n",
       "Status                   Ready_to_move      Ready_to_move  \n",
       "Transaction                     Resale       New_Property  \n",
       "Type                     Builder_Floor      Builder_Floor  \n",
       "Per_Sqft                       12916.0            12916.0  \n",
       "\n",
       "[11 rows x 1259 columns]"
      ]
     },
     "execution_count": 3,
     "metadata": {},
     "output_type": "execute_result"
    }
   ],
   "source": [
    "df.T"
   ]
  },
  {
   "cell_type": "code",
   "execution_count": 4,
   "id": "49b0ad0c-d2cf-47bc-82dc-5ff77e82f2b3",
   "metadata": {},
   "outputs": [
    {
     "name": "stdout",
     "output_type": "stream",
     "text": [
      "<class 'pandas.core.frame.DataFrame'>\n",
      "RangeIndex: 1259 entries, 0 to 1258\n",
      "Data columns (total 11 columns):\n",
      " #   Column       Non-Null Count  Dtype  \n",
      "---  ------       --------------  -----  \n",
      " 0   Area         1259 non-null   float64\n",
      " 1   BHK          1259 non-null   int64  \n",
      " 2   Bathroom     1257 non-null   float64\n",
      " 3   Furnishing   1254 non-null   object \n",
      " 4   Locality     1259 non-null   object \n",
      " 5   Parking      1226 non-null   float64\n",
      " 6   Price        1259 non-null   int64  \n",
      " 7   Status       1259 non-null   object \n",
      " 8   Transaction  1259 non-null   object \n",
      " 9   Type         1254 non-null   object \n",
      " 10  Per_Sqft     1018 non-null   float64\n",
      "dtypes: float64(4), int64(2), object(5)\n",
      "memory usage: 108.3+ KB\n"
     ]
    }
   ],
   "source": [
    "df.info()"
   ]
  },
  {
   "cell_type": "code",
   "execution_count": 5,
   "id": "f3ae8339-9f49-4bd2-9d43-0c230a4d9f7e",
   "metadata": {},
   "outputs": [
    {
     "data": {
      "text/html": [
       "<div>\n",
       "<style scoped>\n",
       "    .dataframe tbody tr th:only-of-type {\n",
       "        vertical-align: middle;\n",
       "    }\n",
       "\n",
       "    .dataframe tbody tr th {\n",
       "        vertical-align: top;\n",
       "    }\n",
       "\n",
       "    .dataframe thead th {\n",
       "        text-align: right;\n",
       "    }\n",
       "</style>\n",
       "<table border=\"1\" class=\"dataframe\">\n",
       "  <thead>\n",
       "    <tr style=\"text-align: right;\">\n",
       "      <th></th>\n",
       "      <th>Area</th>\n",
       "      <th>BHK</th>\n",
       "      <th>Bathroom</th>\n",
       "      <th>Parking</th>\n",
       "      <th>Price</th>\n",
       "      <th>Per_Sqft</th>\n",
       "    </tr>\n",
       "  </thead>\n",
       "  <tbody>\n",
       "    <tr>\n",
       "      <th>count</th>\n",
       "      <td>1259.000000</td>\n",
       "      <td>1259.000000</td>\n",
       "      <td>1257.000000</td>\n",
       "      <td>1226.000000</td>\n",
       "      <td>1.259000e+03</td>\n",
       "      <td>1018.000000</td>\n",
       "    </tr>\n",
       "    <tr>\n",
       "      <th>mean</th>\n",
       "      <td>1466.452724</td>\n",
       "      <td>2.796664</td>\n",
       "      <td>2.556086</td>\n",
       "      <td>1.935563</td>\n",
       "      <td>2.130670e+07</td>\n",
       "      <td>15690.136542</td>\n",
       "    </tr>\n",
       "    <tr>\n",
       "      <th>std</th>\n",
       "      <td>1568.055040</td>\n",
       "      <td>0.954425</td>\n",
       "      <td>1.042220</td>\n",
       "      <td>6.279212</td>\n",
       "      <td>2.560115e+07</td>\n",
       "      <td>21134.738568</td>\n",
       "    </tr>\n",
       "    <tr>\n",
       "      <th>min</th>\n",
       "      <td>28.000000</td>\n",
       "      <td>1.000000</td>\n",
       "      <td>1.000000</td>\n",
       "      <td>1.000000</td>\n",
       "      <td>1.000000e+06</td>\n",
       "      <td>1259.000000</td>\n",
       "    </tr>\n",
       "    <tr>\n",
       "      <th>25%</th>\n",
       "      <td>800.000000</td>\n",
       "      <td>2.000000</td>\n",
       "      <td>2.000000</td>\n",
       "      <td>1.000000</td>\n",
       "      <td>5.700000e+06</td>\n",
       "      <td>6364.000000</td>\n",
       "    </tr>\n",
       "    <tr>\n",
       "      <th>50%</th>\n",
       "      <td>1200.000000</td>\n",
       "      <td>3.000000</td>\n",
       "      <td>2.000000</td>\n",
       "      <td>1.000000</td>\n",
       "      <td>1.420000e+07</td>\n",
       "      <td>11291.500000</td>\n",
       "    </tr>\n",
       "    <tr>\n",
       "      <th>75%</th>\n",
       "      <td>1700.000000</td>\n",
       "      <td>3.000000</td>\n",
       "      <td>3.000000</td>\n",
       "      <td>2.000000</td>\n",
       "      <td>2.550000e+07</td>\n",
       "      <td>18000.000000</td>\n",
       "    </tr>\n",
       "    <tr>\n",
       "      <th>max</th>\n",
       "      <td>24300.000000</td>\n",
       "      <td>10.000000</td>\n",
       "      <td>7.000000</td>\n",
       "      <td>114.000000</td>\n",
       "      <td>2.400000e+08</td>\n",
       "      <td>183333.000000</td>\n",
       "    </tr>\n",
       "  </tbody>\n",
       "</table>\n",
       "</div>"
      ],
      "text/plain": [
       "               Area          BHK     Bathroom      Parking         Price  \\\n",
       "count   1259.000000  1259.000000  1257.000000  1226.000000  1.259000e+03   \n",
       "mean    1466.452724     2.796664     2.556086     1.935563  2.130670e+07   \n",
       "std     1568.055040     0.954425     1.042220     6.279212  2.560115e+07   \n",
       "min       28.000000     1.000000     1.000000     1.000000  1.000000e+06   \n",
       "25%      800.000000     2.000000     2.000000     1.000000  5.700000e+06   \n",
       "50%     1200.000000     3.000000     2.000000     1.000000  1.420000e+07   \n",
       "75%     1700.000000     3.000000     3.000000     2.000000  2.550000e+07   \n",
       "max    24300.000000    10.000000     7.000000   114.000000  2.400000e+08   \n",
       "\n",
       "            Per_Sqft  \n",
       "count    1018.000000  \n",
       "mean    15690.136542  \n",
       "std     21134.738568  \n",
       "min      1259.000000  \n",
       "25%      6364.000000  \n",
       "50%     11291.500000  \n",
       "75%     18000.000000  \n",
       "max    183333.000000  "
      ]
     },
     "execution_count": 5,
     "metadata": {},
     "output_type": "execute_result"
    }
   ],
   "source": [
    "df.describe()"
   ]
  },
  {
   "cell_type": "markdown",
   "id": "fe6d32e5-ab2d-4429-a507-2504e9291bba",
   "metadata": {},
   "source": [
    "Converting BHK, Bathroom, and Parking to Object data type"
   ]
  },
  {
   "cell_type": "code",
   "execution_count": 6,
   "id": "6f2a28fe-1b98-485d-b4c8-bae7a966c299",
   "metadata": {},
   "outputs": [
    {
     "name": "stderr",
     "output_type": "stream",
     "text": [
      "C:\\Users\\WINDOWS 10\\AppData\\Local\\Temp\\ipykernel_10664\\3801242141.py:1: DeprecationWarning: `np.object` is a deprecated alias for the builtin `object`. To silence this warning, use `object` by itself. Doing this will not modify any behavior and is safe. \n",
      "Deprecated in NumPy 1.20; for more details and guidance: https://numpy.org/devdocs/release/1.20.0-notes.html#deprecations\n",
      "  df['BHK'] = df['BHK'].astype(np.object)\n",
      "C:\\Users\\WINDOWS 10\\AppData\\Local\\Temp\\ipykernel_10664\\3801242141.py:2: DeprecationWarning: `np.object` is a deprecated alias for the builtin `object`. To silence this warning, use `object` by itself. Doing this will not modify any behavior and is safe. \n",
      "Deprecated in NumPy 1.20; for more details and guidance: https://numpy.org/devdocs/release/1.20.0-notes.html#deprecations\n",
      "  df['Bathroom'] = df['Bathroom'].astype(np.object)\n",
      "C:\\Users\\WINDOWS 10\\AppData\\Local\\Temp\\ipykernel_10664\\3801242141.py:3: DeprecationWarning: `np.object` is a deprecated alias for the builtin `object`. To silence this warning, use `object` by itself. Doing this will not modify any behavior and is safe. \n",
      "Deprecated in NumPy 1.20; for more details and guidance: https://numpy.org/devdocs/release/1.20.0-notes.html#deprecations\n",
      "  df['Parking'] = df['Parking'].astype(np.object)\n"
     ]
    }
   ],
   "source": [
    "df['BHK'] = df['BHK'].astype(np.object)\n",
    "df['Bathroom'] = df['Bathroom'].astype(np.object)\n",
    "df['Parking'] = df['Parking'].astype(np.object)"
   ]
  },
  {
   "cell_type": "code",
   "execution_count": 7,
   "id": "81a0d51d-339e-47eb-89a3-c57e82b36886",
   "metadata": {},
   "outputs": [
    {
     "data": {
      "text/plain": [
       "83"
      ]
     },
     "execution_count": 7,
     "metadata": {},
     "output_type": "execute_result"
    }
   ],
   "source": [
    "df.duplicated().sum()"
   ]
  },
  {
   "cell_type": "code",
   "execution_count": 8,
   "id": "d62c2975-486c-492f-b3cf-76809ca3fbcf",
   "metadata": {},
   "outputs": [
    {
     "data": {
      "text/plain": [
       "Area             0\n",
       "BHK              0\n",
       "Bathroom         2\n",
       "Furnishing       5\n",
       "Locality         0\n",
       "Parking         33\n",
       "Price            0\n",
       "Status           0\n",
       "Transaction      0\n",
       "Type             5\n",
       "Per_Sqft       241\n",
       "dtype: int64"
      ]
     },
     "execution_count": 8,
     "metadata": {},
     "output_type": "execute_result"
    }
   ],
   "source": [
    "df.isna().sum()"
   ]
  },
  {
   "cell_type": "markdown",
   "id": "e96423b4-0870-4bee-9b82-5bc666365d7b",
   "metadata": {},
   "source": [
    "# Data Visualization"
   ]
  },
  {
   "cell_type": "code",
   "execution_count": 9,
   "id": "2307ebbe-0b6d-49a3-b7ec-71b9163846fa",
   "metadata": {},
   "outputs": [
    {
     "data": {
      "text/plain": [
       "<AxesSubplot:xlabel='Furnishing', ylabel='count'>"
      ]
     },
     "execution_count": 9,
     "metadata": {},
     "output_type": "execute_result"
    },
    {
     "data": {
      "image/png": "[encoded data removed]",
      "text/plain": [
       "<Figure size 432x288 with 1 Axes>"
      ]
     },
     "metadata": {
      "needs_background": "light"
     },
     "output_type": "display_data"
    }
   ],
   "source": [
    "sns.countplot(x='Furnishing', data=df)"
   ]
  },
  {
   "cell_type": "code",
   "execution_count": 10,
   "id": "a072cef6-c51c-42b1-8c70-90b50055d658",
   "metadata": {},
   "outputs": [
    {
     "data": {
      "text/plain": [
       "<AxesSubplot:xlabel='Status', ylabel='count'>"
      ]
     },
     "execution_count": 10,
     "metadata": {},
     "output_type": "execute_result"
    },
    {
     "data": {
      "image/png": "[encoded data removed]",
      "text/plain": [
       "<Figure size 432x288 with 1 Axes>"
      ]
     },
     "metadata": {
      "needs_background": "light"
     },
     "output_type": "display_data"
    }
   ],
   "source": [
    "sns.countplot(x='Status', data=df)"
   ]
  },
  {
   "cell_type": "code",
   "execution_count": 11,
   "id": "2150fed6-2bc6-4ea6-935e-016ee88169a9",
   "metadata": {},
   "outputs": [
    {
     "data": {
      "text/plain": [
       "<AxesSubplot:xlabel='Transaction', ylabel='count'>"
      ]
     },
     "execution_count": 11,
     "metadata": {},
     "output_type": "execute_result"
    },
    {
     "data": {
      "image/png": "[encoded data removed]",
      "text/plain": [
       "<Figure size 432x288 with 1 Axes>"
      ]
     },
     "metadata": {
      "needs_background": "light"
     },
     "output_type": "display_data"
    }
   ],
   "source": [
    "sns.countplot(x='Transaction', data=df)"
   ]
  },
  {
   "cell_type": "markdown",
   "id": "62179cf5-2a44-4df8-9672-8649b6b57a94",
   "metadata": {},
   "source": [
    "Plot below created after Feature Importance detected"
   ]
  },
  {
   "cell_type": "code",
   "execution_count": 12,
   "id": "414cf621-2ba6-4969-94d0-77ccd92bc3d1",
   "metadata": {},
   "outputs": [
    {
     "data": {
      "text/plain": [
       "<AxesSubplot:xlabel='Price', ylabel='Area'>"
      ]
     },
     "execution_count": 12,
     "metadata": {},
     "output_type": "execute_result"
    },
    {
     "data": {
      "image/png": "[encoded data removed]",
      "text/plain": [
       "<Figure size 576x720 with 1 Axes>"
      ]
     },
     "metadata": {
      "needs_background": "light"
     },
     "output_type": "display_data"
    }
   ],
   "source": [
    "plt.figure(figsize=(8,10))\n",
    "sns.boxplot(x='Price',\n",
    "            y='Area',\n",
    "            hue='Status',\n",
    "            data=df)"
   ]
  },
  {
   "cell_type": "code",
   "execution_count": 13,
   "id": "f0a89931-d620-48b1-b417-580eae5c80ed",
   "metadata": {},
   "outputs": [
    {
     "data": {
      "text/plain": [
       "<AxesSubplot:ylabel='Price'>"
      ]
     },
     "execution_count": 13,
     "metadata": {},
     "output_type": "execute_result"
    },
    {
     "data": {
      "image/png": "[encoded data removed]",
      "text/plain": [
       "<Figure size 432x288 with 1 Axes>"
      ]
     },
     "metadata": {
      "needs_background": "light"
     },
     "output_type": "display_data"
    }
   ],
   "source": [
    "sns.boxplot(y='Price',\n",
    "            data=df)"
   ]
  },
  {
   "cell_type": "markdown",
   "id": "20f57b6e-e8dc-49e9-b234-c6928e24c023",
   "metadata": {},
   "source": [
    "# Data Cleansing"
   ]
  },
  {
   "cell_type": "markdown",
   "id": "9a52a796-912e-43a2-949d-0a54c64ea8ed",
   "metadata": {},
   "source": [
    "For now, we can drop null values (Imputation on data still possible)"
   ]
  },
  {
   "cell_type": "code",
   "execution_count": 14,
   "id": "42180348-0ac8-4561-881f-389c6ff677e1",
   "metadata": {},
   "outputs": [],
   "source": [
    "df = df.dropna()"
   ]
  },
  {
   "cell_type": "markdown",
   "id": "c6113068-c972-4be5-944c-4128e8a52244",
   "metadata": {},
   "source": [
    "Creating numerical and categorical data"
   ]
  },
  {
   "cell_type": "code",
   "execution_count": 15,
   "id": "b7cd4153-ec04-4cf9-b11e-544ffd207df9",
   "metadata": {},
   "outputs": [],
   "source": [
    "nums = df.select_dtypes(include=[np.number])\n",
    "cats = df.select_dtypes(exclude=[np.number])"
   ]
  },
  {
   "cell_type": "code",
   "execution_count": 16,
   "id": "2e757485-fa56-4d08-b4be-7c70d11fa4ee",
   "metadata": {},
   "outputs": [
    {
     "data": {
      "text/plain": [
       "Index(['Area', 'Price', 'Per_Sqft'], dtype='object')"
      ]
     },
     "execution_count": 16,
     "metadata": {},
     "output_type": "execute_result"
    }
   ],
   "source": [
    "nums.columns"
   ]
  },
  {
   "cell_type": "code",
   "execution_count": 17,
   "id": "d7f73cbd-ef10-4424-a3b1-2e0ff169cad6",
   "metadata": {},
   "outputs": [
    {
     "data": {
      "text/plain": [
       "Index(['BHK', 'Bathroom', 'Furnishing', 'Locality', 'Parking', 'Status',\n",
       "       'Transaction', 'Type'],\n",
       "      dtype='object')"
      ]
     },
     "execution_count": 17,
     "metadata": {},
     "output_type": "execute_result"
    }
   ],
   "source": [
    "cats.columns"
   ]
  },
  {
   "cell_type": "code",
   "execution_count": 18,
   "id": "14a675ef-6bbf-419c-a83e-ab3eef6aa944",
   "metadata": {},
   "outputs": [
    {
     "data": {
      "text/html": [
       "<div>\n",
       "<style scoped>\n",
       "    .dataframe tbody tr th:only-of-type {\n",
       "        vertical-align: middle;\n",
       "    }\n",
       "\n",
       "    .dataframe tbody tr th {\n",
       "        vertical-align: top;\n",
       "    }\n",
       "\n",
       "    .dataframe thead th {\n",
       "        text-align: right;\n",
       "    }\n",
       "</style>\n",
       "<table border=\"1\" class=\"dataframe\">\n",
       "  <thead>\n",
       "    <tr style=\"text-align: right;\">\n",
       "      <th></th>\n",
       "      <th>BHK</th>\n",
       "      <th>Bathroom</th>\n",
       "      <th>Furnishing</th>\n",
       "      <th>Locality</th>\n",
       "      <th>Parking</th>\n",
       "      <th>Status</th>\n",
       "      <th>Transaction</th>\n",
       "      <th>Type</th>\n",
       "    </tr>\n",
       "  </thead>\n",
       "  <tbody>\n",
       "    <tr>\n",
       "      <th>count</th>\n",
       "      <td>1005</td>\n",
       "      <td>1005.0</td>\n",
       "      <td>1005</td>\n",
       "      <td>1005</td>\n",
       "      <td>1005.0</td>\n",
       "      <td>1005</td>\n",
       "      <td>1005</td>\n",
       "      <td>1005</td>\n",
       "    </tr>\n",
       "    <tr>\n",
       "      <th>unique</th>\n",
       "      <td>7</td>\n",
       "      <td>7.0</td>\n",
       "      <td>3</td>\n",
       "      <td>304</td>\n",
       "      <td>8.0</td>\n",
       "      <td>2</td>\n",
       "      <td>2</td>\n",
       "      <td>2</td>\n",
       "    </tr>\n",
       "    <tr>\n",
       "      <th>top</th>\n",
       "      <td>3</td>\n",
       "      <td>2.0</td>\n",
       "      <td>Semi-Furnished</td>\n",
       "      <td>J R Designers Floors, Rohini Sector 24</td>\n",
       "      <td>1.0</td>\n",
       "      <td>Ready_to_move</td>\n",
       "      <td>Resale</td>\n",
       "      <td>Builder_Floor</td>\n",
       "    </tr>\n",
       "    <tr>\n",
       "      <th>freq</th>\n",
       "      <td>414</td>\n",
       "      <td>421.0</td>\n",
       "      <td>563</td>\n",
       "      <td>31</td>\n",
       "      <td>671.0</td>\n",
       "      <td>940</td>\n",
       "      <td>603</td>\n",
       "      <td>550</td>\n",
       "    </tr>\n",
       "  </tbody>\n",
       "</table>\n",
       "</div>"
      ],
      "text/plain": [
       "         BHK  Bathroom      Furnishing  \\\n",
       "count   1005    1005.0            1005   \n",
       "unique     7       7.0               3   \n",
       "top        3       2.0  Semi-Furnished   \n",
       "freq     414     421.0             563   \n",
       "\n",
       "                                      Locality  Parking         Status  \\\n",
       "count                                     1005   1005.0           1005   \n",
       "unique                                     304      8.0              2   \n",
       "top     J R Designers Floors, Rohini Sector 24      1.0  Ready_to_move   \n",
       "freq                                        31    671.0            940   \n",
       "\n",
       "       Transaction           Type  \n",
       "count         1005           1005  \n",
       "unique           2              2  \n",
       "top         Resale  Builder_Floor  \n",
       "freq           603            550  "
      ]
     },
     "execution_count": 18,
     "metadata": {},
     "output_type": "execute_result"
    }
   ],
   "source": [
    "cats.describe()"
   ]
  },
  {
   "cell_type": "code",
   "execution_count": 19,
   "id": "a90fc724-e87d-44e4-8dac-f9de5d3ef2d3",
   "metadata": {
    "collapsed": true,
    "jupyter": {
     "outputs_hidden": true
    },
    "tags": []
   },
   "outputs": [
    {
     "name": "stdout",
     "output_type": "stream",
     "text": [
      "Value count kolom BHK:\n",
      "3    414\n",
      "2    297\n",
      "4    181\n",
      "1     82\n",
      "5     24\n",
      "6      6\n",
      "7      1\n",
      "Name: BHK, dtype: int64\n",
      "\n",
      "Value count kolom Bathroom:\n",
      "2.0    421\n",
      "3.0    273\n",
      "1.0    130\n",
      "4.0    120\n",
      "5.0     52\n",
      "6.0      6\n",
      "7.0      3\n",
      "Name: Bathroom, dtype: int64\n",
      "\n",
      "Value count kolom Furnishing:\n",
      "Semi-Furnished    563\n",
      "Unfurnished       301\n",
      "Furnished         141\n",
      "Name: Furnishing, dtype: int64\n",
      "\n",
      "Value count kolom Locality:\n",
      "J R Designers Floors, Rohini Sector 24                                                                                                                                                                                                                                                                                                                                                                                                                                                                                                                                                                                                      31\n",
      "Lajpat Nagar 2                                                                                                                                                                                                                                                                                                                                                                                                                                                                                                                                                                                                                              27\n",
      "Kailash Colony, Greater Kailash                                                                                                                                                                                                                                                                                                                                                                                                                                                                                                                                                                                                             27\n",
      "Yamuna Vihar, Shahdara                                                                                                                                                                                                                                                                                                                                                                                                                                                                                                                                                                                                                      27\n",
      "Chittaranjan Park                                                                                                                                                                                                                                                                                                                                                                                                                                                                                                                                                                                                                           23\n",
      "                                                                                                                                                                                                                                                                                                                                                                                                                                                                                                                                                                                                                                            ..\n",
      "Paschim Vihar How Auctions work? The borrower has the physical possession of the Property. However the lender (Bank) can legally sell the Property. carpet area 780 sqft status Ready to Move floor Ground out of 3 floors transaction Resale furnishing Unfurnished facing West bathroom 2 balcony 1 ownership Freehold Contact Now Enquire Now Auction By Bank                                                                                                                                                                                                                                                                             1\n",
      "DDA Lig Flats, Paschim Vihar carpet area 45 sqyrd status Ready to Move floor 4 out of 4 floors transaction Resale furnishing Semi-Furnished facing East overlooking Garden/Park, Main Road society DDA Lig Flats bathroom 1 balcony 1 ownership Freehold East Facing Property Expected price for the Flat is kept at 45 Lac. This is a 1 bedroom apartment present in DDA Lig Flats, Paschim Vihar. It measures an area of 45 Sq-m. It is on 4 floor out of 4 floors in the tower and is also well ventilated. The Flat has 1 washroom and also has 1 spacious balcony. read more Contact Owner View Phone No. Share Feedback Owner Anil     1\n",
      "MeeraBai Apartment, Dwarka Sector 5                                                                                                                                                                                                                                                                                                                                                                                                                                                                                                                                                                                                          1\n",
      "Archana Apartment, Paschim Vihar                                                                                                                                                                                                                                                                                                                                                                                                                                                                                                                                                                                                             1\n",
      "Chittaranjan Park Block A                                                                                                                                                                                                                                                                                                                                                                                                                                                                                                                                                                                                                    1\n",
      "Name: Locality, Length: 304, dtype: int64\n",
      "\n",
      "Value count kolom Parking:\n",
      "1.0     671\n",
      "2.0     256\n",
      "3.0      52\n",
      "4.0      10\n",
      "5.0       7\n",
      "39.0      7\n",
      "9.0       1\n",
      "10.0      1\n",
      "Name: Parking, dtype: int64\n",
      "\n",
      "Value count kolom Status:\n",
      "Ready_to_move    940\n",
      "Almost_ready      65\n",
      "Name: Status, dtype: int64\n",
      "\n",
      "Value count kolom Transaction:\n",
      "Resale          603\n",
      "New_Property    402\n",
      "Name: Transaction, dtype: int64\n",
      "\n",
      "Value count kolom Type:\n",
      "Builder_Floor    550\n",
      "Apartment        455\n",
      "Name: Type, dtype: int64\n",
      "\n"
     ]
    }
   ],
   "source": [
    "for col in cats:\n",
    "    print(f'''Value count kolom {col}:''')\n",
    "    print(df[col].value_counts())\n",
    "    print()"
   ]
  },
  {
   "cell_type": "code",
   "execution_count": 20,
   "id": "3536e729-1458-4fef-9ae9-209366af07fe",
   "metadata": {
    "tags": []
   },
   "outputs": [
    {
     "name": "stdout",
     "output_type": "stream",
     "text": [
      "Value count kolom Area:\n",
      "900.0      54\n",
      "1500.0     35\n",
      "1800.0     31\n",
      "1000.0     31\n",
      "1100.0     27\n",
      "           ..\n",
      "2025.0      1\n",
      "24300.0     1\n",
      "2035.0      1\n",
      "150.0       1\n",
      "11050.0     1\n",
      "Name: Area, Length: 289, dtype: int64\n",
      "\n",
      "Value count kolom Price:\n",
      "15000000    22\n",
      "7000000     18\n",
      "25000000    17\n",
      "5500000     16\n",
      "19000000    15\n",
      "            ..\n",
      "2670000      1\n",
      "1950000      1\n",
      "28900000     1\n",
      "21900000     1\n",
      "22200000     1\n",
      "Name: Price, Length: 258, dtype: int64\n",
      "\n",
      "Value count kolom Per_Sqft:\n",
      "12500.0    34\n",
      "3524.0     28\n",
      "6667.0     26\n",
      "14818.0    24\n",
      "7000.0     18\n",
      "           ..\n",
      "19280.0     1\n",
      "16654.0     1\n",
      "20270.0     1\n",
      "19811.0     1\n",
      "21000.0     1\n",
      "Name: Per_Sqft, Length: 246, dtype: int64\n",
      "\n"
     ]
    }
   ],
   "source": [
    "for col in nums:\n",
    "    print(f'''Value count kolom {col}:''')\n",
    "    print(df[col].value_counts())\n",
    "    print()"
   ]
  },
  {
   "cell_type": "markdown",
   "id": "74e2bb35-5c7a-4971-afff-ccba70f2afe7",
   "metadata": {},
   "source": [
    "Checking Correlation"
   ]
  },
  {
   "cell_type": "code",
   "execution_count": 21,
   "id": "89611a7e-c099-41c3-bd15-8e681bf1876f",
   "metadata": {
    "tags": []
   },
   "outputs": [
    {
     "data": {
      "text/plain": [
       "<AxesSubplot:>"
      ]
     },
     "execution_count": 21,
     "metadata": {},
     "output_type": "execute_result"
    },
    {
     "data": {
      "image/png": "[encoded data removed]",
      "text/plain": [
       "<Figure size 1440x1440 with 2 Axes>"
      ]
     },
     "metadata": {
      "needs_background": "light"
     },
     "output_type": "display_data"
    }
   ],
   "source": [
    "# correlation heatmap numerical data\n",
    "plt.figure(figsize=(20, 20))\n",
    "sns.heatmap(df.corr(), cmap='Blues', annot=True, fmt='.2f')"
   ]
  },
  {
   "cell_type": "code",
   "execution_count": 22,
   "id": "4c1b072b-7510-4de5-a5d1-35d7e0998769",
   "metadata": {},
   "outputs": [
    {
     "name": "stderr",
     "output_type": "stream",
     "text": [
      "C:\\ProgramData\\Anaconda3\\lib\\site-packages\\pandas\\core\\algorithms.py:798: FutureWarning: In a future version, the Index constructor will not infer numeric dtypes when passed object-dtype sequences (matching Series behavior)\n",
      "  uniques = Index(uniques)\n"
     ]
    },
    {
     "data": {
      "text/plain": [
       "<AxesSubplot:>"
      ]
     },
     "execution_count": 22,
     "metadata": {},
     "output_type": "execute_result"
    },
    {
     "data": {
      "image/png": "[encoded data removed]",
      "text/plain": [
       "<Figure size 864x576 with 2 Axes>"
      ]
     },
     "metadata": {
      "needs_background": "light"
     },
     "output_type": "display_data"
    }
   ],
   "source": [
    "#categorical data heatmap\n",
    "plt.figure(figsize=(12, 8))\n",
    "sns.heatmap(cats.apply(lambda x : pd.factorize(x)[0]).corr(method='pearson', min_periods=1))"
   ]
  },
  {
   "cell_type": "code",
   "execution_count": 23,
   "id": "18dd958b-fc35-498b-a9f3-f3926392192c",
   "metadata": {},
   "outputs": [
    {
     "name": "stdout",
     "output_type": "stream",
     "text": [
      "              Area    Price  Per_Sqft\n",
      "Area      1.000000  0.57441  0.165277\n",
      "Price     0.574410  1.00000  0.325240\n",
      "Per_Sqft  0.165277  0.32524  1.000000\n"
     ]
    }
   ],
   "source": [
    "cor_matrix = df.corr().abs()\n",
    "print(cor_matrix)"
   ]
  },
  {
   "cell_type": "code",
   "execution_count": 24,
   "id": "8b9b9e35-e7c1-4445-be5d-a272e0c14e35",
   "metadata": {},
   "outputs": [
    {
     "name": "stdout",
     "output_type": "stream",
     "text": [
      "          Area    Price  Per_Sqft\n",
      "Area       NaN  0.57441  0.165277\n",
      "Price      NaN      NaN  0.325240\n",
      "Per_Sqft   NaN      NaN       NaN\n"
     ]
    },
    {
     "name": "stderr",
     "output_type": "stream",
     "text": [
      "C:\\Users\\WINDOWS 10\\AppData\\Local\\Temp\\ipykernel_10664\\3477284062.py:1: DeprecationWarning: `np.bool` is a deprecated alias for the builtin `bool`. To silence this warning, use `bool` by itself. Doing this will not modify any behavior and is safe. If you specifically wanted the numpy scalar type, use `np.bool_` here.\n",
      "Deprecated in NumPy 1.20; for more details and guidance: https://numpy.org/devdocs/release/1.20.0-notes.html#deprecations\n",
      "  upper_tri = cor_matrix.where(np.triu(np.ones(cor_matrix.shape),k=1).astype(np.bool))\n"
     ]
    }
   ],
   "source": [
    "upper_tri = cor_matrix.where(np.triu(np.ones(cor_matrix.shape),k=1).astype(np.bool))\n",
    "print(upper_tri)"
   ]
  },
  {
   "cell_type": "markdown",
   "id": "9cc1eebe-a709-48f5-aabf-0ced8c35a2f4",
   "metadata": {},
   "source": [
    "Any correlation above 0.95 will be dropped (value limit could be changed"
   ]
  },
  {
   "cell_type": "code",
   "execution_count": 25,
   "id": "bd8226a0-31d2-4aeb-bbff-c4e611ad4a5d",
   "metadata": {},
   "outputs": [
    {
     "name": "stdout",
     "output_type": "stream",
     "text": [
      "\n",
      "[]\n"
     ]
    }
   ],
   "source": [
    "to_drop = [column for column in upper_tri.columns if any(upper_tri[column] > 0.95)]\n",
    "print(); print(to_drop)"
   ]
  },
  {
   "cell_type": "code",
   "execution_count": 26,
   "id": "73b20e31-d5d6-4d91-9f79-e08c88d9980a",
   "metadata": {},
   "outputs": [],
   "source": [
    "df_clean = df"
   ]
  },
  {
   "cell_type": "code",
   "execution_count": 27,
   "id": "fd1c18dc-60ee-4539-b181-141e3a133eaf",
   "metadata": {},
   "outputs": [
    {
     "data": {
      "text/plain": [
       "Index(['Area', 'Price', 'Per_Sqft'], dtype='object')"
      ]
     },
     "execution_count": 27,
     "metadata": {},
     "output_type": "execute_result"
    }
   ],
   "source": [
    "nums.columns"
   ]
  },
  {
   "cell_type": "markdown",
   "id": "7df9c11b-36af-4b66-b846-4e3942c7576e",
   "metadata": {},
   "source": [
    "# Data Pre-Processing"
   ]
  },
  {
   "cell_type": "markdown",
   "id": "7aa20131-cb60-4914-ada4-eccd10aaf89b",
   "metadata": {},
   "source": [
    "Checking numerical features skewness"
   ]
  },
  {
   "cell_type": "code",
   "execution_count": 28,
   "id": "30bcd304-f340-4ffb-9190-cb2bd923eac2",
   "metadata": {},
   "outputs": [
    {
     "data": {
      "text/plain": [
       "<AxesSubplot:xlabel='Area', ylabel='Density'>"
      ]
     },
     "execution_count": 28,
     "metadata": {},
     "output_type": "execute_result"
    },
    {
     "data": {
      "image/png": "[encoded data removed]",
      "text/plain": [
       "<Figure size 432x288 with 1 Axes>"
      ]
     },
     "metadata": {
      "needs_background": "light"
     },
     "output_type": "display_data"
    }
   ],
   "source": [
    "sns.kdeplot(df['Area'])"
   ]
  },
  {
   "cell_type": "code",
   "execution_count": 29,
   "id": "5f1ede45-55e8-460d-8ec9-1aa7b54c8b88",
   "metadata": {},
   "outputs": [
    {
     "data": {
      "text/plain": [
       "<AxesSubplot:xlabel='Price', ylabel='Density'>"
      ]
     },
     "execution_count": 29,
     "metadata": {},
     "output_type": "execute_result"
    },
    {
     "data": {
      "image/png": "[encoded data removed]",
      "text/plain": [
       "<Figure size 432x288 with 1 Axes>"
      ]
     },
     "metadata": {
      "needs_background": "light"
     },
     "output_type": "display_data"
    }
   ],
   "source": [
    "sns.kdeplot(df['Price'])"
   ]
  },
  {
   "cell_type": "code",
   "execution_count": 30,
   "id": "e8378e46-3345-4338-a5d6-23831a63a216",
   "metadata": {},
   "outputs": [
    {
     "data": {
      "text/plain": [
       "<AxesSubplot:xlabel='Per_Sqft', ylabel='Density'>"
      ]
     },
     "execution_count": 30,
     "metadata": {},
     "output_type": "execute_result"
    },
    {
     "data": {
      "image/png": "[encoded data removed]",
      "text/plain": [
       "<Figure size 432x288 with 1 Axes>"
      ]
     },
     "metadata": {
      "needs_background": "light"
     },
     "output_type": "display_data"
    }
   ],
   "source": [
    "sns.kdeplot(df['Per_Sqft'])"
   ]
  },
  {
   "cell_type": "markdown",
   "id": "d1ba3f90-c915-466f-9f9e-6b08cf010413",
   "metadata": {},
   "source": [
    "It's turned out that all numerical features are skewed right, i will apply log transformation to all num features"
   ]
  },
  {
   "cell_type": "code",
   "execution_count": 31,
   "id": "6e5edbfa-b666-4b69-b391-2f8aa36be8f3",
   "metadata": {},
   "outputs": [
    {
     "data": {
      "image/png": "[encoded data removed]",
      "text/plain": [
       "<Figure size 432x288 with 1 Axes>"
      ]
     },
     "metadata": {
      "needs_background": "light"
     },
     "output_type": "display_data"
    }
   ],
   "source": [
    "sns.kdeplot(np.log(df['Area']))\n",
    "df['log_Area']= np.log(df['Area'])"
   ]
  },
  {
   "cell_type": "code",
   "execution_count": 32,
   "id": "37a7d3ca-0e47-40d5-b62c-d988442ff7a6",
   "metadata": {},
   "outputs": [],
   "source": [
    "df = df.drop(columns='Area')"
   ]
  },
  {
   "cell_type": "code",
   "execution_count": 33,
   "id": "c30db9bb-be4b-4c42-867b-2af89b400dc9",
   "metadata": {},
   "outputs": [
    {
     "data": {
      "image/png": "[encoded data removed]",
      "text/plain": [
       "<Figure size 432x288 with 1 Axes>"
      ]
     },
     "metadata": {
      "needs_background": "light"
     },
     "output_type": "display_data"
    }
   ],
   "source": [
    "sns.kdeplot(np.log(df['Price']))\n",
    "df['log_Price']= np.log(df['Price'])"
   ]
  },
  {
   "cell_type": "code",
   "execution_count": 34,
   "id": "b9345006-0044-4dc4-b70d-8bed38c57cda",
   "metadata": {},
   "outputs": [],
   "source": [
    "df = df.drop(columns='Price')"
   ]
  },
  {
   "cell_type": "code",
   "execution_count": 35,
   "id": "da521459-bd33-4842-99b9-9f235b459ac9",
   "metadata": {},
   "outputs": [
    {
     "data": {
      "image/png": "[encoded data removed]",
      "text/plain": [
       "<Figure size 432x288 with 1 Axes>"
      ]
     },
     "metadata": {
      "needs_background": "light"
     },
     "output_type": "display_data"
    }
   ],
   "source": [
    "sns.kdeplot(np.log(df['Per_Sqft']))\n",
    "df['log_Per_Sqft']= np.log(df['Per_Sqft'])"
   ]
  },
  {
   "cell_type": "code",
   "execution_count": 36,
   "id": "af97af7d-1e35-45ab-a1ad-8b381a47582e",
   "metadata": {},
   "outputs": [],
   "source": [
    "df = df.drop(columns='Per_Sqft')"
   ]
  },
  {
   "cell_type": "code",
   "execution_count": 37,
   "id": "502a249a-dd21-4760-8cbe-700fc23a9493",
   "metadata": {},
   "outputs": [],
   "source": [
    "from scipy import stats"
   ]
  },
  {
   "cell_type": "code",
   "execution_count": 38,
   "id": "c78a3da2-fc56-43a7-a700-2f769bdffdec",
   "metadata": {},
   "outputs": [],
   "source": [
    "nums1 = ['log_Area', 'log_Price', 'log_Per_Sqft']"
   ]
  },
  {
   "cell_type": "markdown",
   "id": "2e151731-9bd1-43a3-9678-b27636629adc",
   "metadata": {},
   "source": [
    "Filtering Outliers using Z-Score"
   ]
  },
  {
   "cell_type": "code",
   "execution_count": 39,
   "id": "78511b18-a6cb-4d9e-9562-e42b9dafa6ff",
   "metadata": {},
   "outputs": [
    {
     "name": "stdout",
     "output_type": "stream",
     "text": [
      "Number of lines before filtering outlier: 1005\n",
      "Number of lines after filtering outlier: 963\n"
     ]
    }
   ],
   "source": [
    "print(f'Number of lines before filtering outlier: {len(df)}')\n",
    "\n",
    "filtered_entries = np.array([True] * len(df))\n",
    "\n",
    "for col in nums1:\n",
    "    zscore = abs(stats.zscore(df[col])) # hitung absolute z-scorenya\n",
    "    filtered_entries = (zscore < 3) & filtered_entries # keep yang kurang dari 3 absolute z-scorenya\n",
    "    \n",
    "df = df[filtered_entries] # filter, cuma ambil yang z-scorenya dibawah 3\n",
    "\n",
    "print(f'Number of lines after filtering outlier: {len(df)}')"
   ]
  },
  {
   "cell_type": "code",
   "execution_count": 40,
   "id": "24e771a9-3725-42aa-90a9-1d522373203d",
   "metadata": {},
   "outputs": [
    {
     "data": {
      "text/html": [
       "<div>\n",
       "<style scoped>\n",
       "    .dataframe tbody tr th:only-of-type {\n",
       "        vertical-align: middle;\n",
       "    }\n",
       "\n",
       "    .dataframe tbody tr th {\n",
       "        vertical-align: top;\n",
       "    }\n",
       "\n",
       "    .dataframe thead th {\n",
       "        text-align: right;\n",
       "    }\n",
       "</style>\n",
       "<table border=\"1\" class=\"dataframe\">\n",
       "  <thead>\n",
       "    <tr style=\"text-align: right;\">\n",
       "      <th></th>\n",
       "      <th>log_Area</th>\n",
       "      <th>log_Price</th>\n",
       "      <th>log_Per_Sqft</th>\n",
       "    </tr>\n",
       "  </thead>\n",
       "  <tbody>\n",
       "    <tr>\n",
       "      <th>count</th>\n",
       "      <td>963.000000</td>\n",
       "      <td>963.000000</td>\n",
       "      <td>963.000000</td>\n",
       "    </tr>\n",
       "    <tr>\n",
       "      <th>mean</th>\n",
       "      <td>7.045135</td>\n",
       "      <td>16.320633</td>\n",
       "      <td>9.242949</td>\n",
       "    </tr>\n",
       "    <tr>\n",
       "      <th>std</th>\n",
       "      <td>0.634303</td>\n",
       "      <td>1.095153</td>\n",
       "      <td>0.677525</td>\n",
       "    </tr>\n",
       "    <tr>\n",
       "      <th>min</th>\n",
       "      <td>4.828314</td>\n",
       "      <td>13.815511</td>\n",
       "      <td>7.138073</td>\n",
       "    </tr>\n",
       "    <tr>\n",
       "      <th>25%</th>\n",
       "      <td>6.684612</td>\n",
       "      <td>15.473693</td>\n",
       "      <td>8.724858</td>\n",
       "    </tr>\n",
       "    <tr>\n",
       "      <th>50%</th>\n",
       "      <td>7.047517</td>\n",
       "      <td>16.454568</td>\n",
       "      <td>9.315691</td>\n",
       "    </tr>\n",
       "    <tr>\n",
       "      <th>75%</th>\n",
       "      <td>7.438384</td>\n",
       "      <td>17.073607</td>\n",
       "      <td>9.776733</td>\n",
       "    </tr>\n",
       "    <tr>\n",
       "      <th>max</th>\n",
       "      <td>9.310186</td>\n",
       "      <td>19.296149</td>\n",
       "      <td>11.461632</td>\n",
       "    </tr>\n",
       "  </tbody>\n",
       "</table>\n",
       "</div>"
      ],
      "text/plain": [
       "         log_Area   log_Price  log_Per_Sqft\n",
       "count  963.000000  963.000000    963.000000\n",
       "mean     7.045135   16.320633      9.242949\n",
       "std      0.634303    1.095153      0.677525\n",
       "min      4.828314   13.815511      7.138073\n",
       "25%      6.684612   15.473693      8.724858\n",
       "50%      7.047517   16.454568      9.315691\n",
       "75%      7.438384   17.073607      9.776733\n",
       "max      9.310186   19.296149     11.461632"
      ]
     },
     "execution_count": 40,
     "metadata": {},
     "output_type": "execute_result"
    }
   ],
   "source": [
    "df.describe()"
   ]
  },
  {
   "cell_type": "markdown",
   "id": "ce114143-dd1c-40a3-a749-c07cd8c0b6de",
   "metadata": {},
   "source": [
    "Normalization applied for numerical data"
   ]
  },
  {
   "cell_type": "code",
   "execution_count": 41,
   "id": "86d1aa6b-820a-4e9b-b840-303076a17f19",
   "metadata": {},
   "outputs": [],
   "source": [
    "from sklearn.preprocessing import MinMaxScaler, StandardScaler\n",
    "\n",
    "# re-scale ke [0,1]\n",
    "df['log_Area'] = MinMaxScaler().fit_transform(df['log_Area'].values.reshape(len(df), 1))\n",
    "df['log_Price'] = MinMaxScaler().fit_transform(df['log_Price'].values.reshape(len(df), 1))\n",
    "df['log_Per_Sqft'] = MinMaxScaler().fit_transform(df['log_Per_Sqft'].values.reshape(len(df), 1))"
   ]
  },
  {
   "cell_type": "code",
   "execution_count": 42,
   "id": "3855e646-dc10-4803-bddb-367dfb6ff872",
   "metadata": {},
   "outputs": [
    {
     "data": {
      "text/html": [
       "<div>\n",
       "<style scoped>\n",
       "    .dataframe tbody tr th:only-of-type {\n",
       "        vertical-align: middle;\n",
       "    }\n",
       "\n",
       "    .dataframe tbody tr th {\n",
       "        vertical-align: top;\n",
       "    }\n",
       "\n",
       "    .dataframe thead th {\n",
       "        text-align: right;\n",
       "    }\n",
       "</style>\n",
       "<table border=\"1\" class=\"dataframe\">\n",
       "  <thead>\n",
       "    <tr style=\"text-align: right;\">\n",
       "      <th></th>\n",
       "      <th>log_Area</th>\n",
       "      <th>log_Price</th>\n",
       "      <th>log_Per_Sqft</th>\n",
       "    </tr>\n",
       "  </thead>\n",
       "  <tbody>\n",
       "    <tr>\n",
       "      <th>count</th>\n",
       "      <td>963.000000</td>\n",
       "      <td>963.000000</td>\n",
       "      <td>963.000000</td>\n",
       "    </tr>\n",
       "    <tr>\n",
       "      <th>mean</th>\n",
       "      <td>0.494620</td>\n",
       "      <td>0.457086</td>\n",
       "      <td>0.486839</td>\n",
       "    </tr>\n",
       "    <tr>\n",
       "      <th>std</th>\n",
       "      <td>0.141526</td>\n",
       "      <td>0.199822</td>\n",
       "      <td>0.156705</td>\n",
       "    </tr>\n",
       "    <tr>\n",
       "      <th>min</th>\n",
       "      <td>0.000000</td>\n",
       "      <td>0.000000</td>\n",
       "      <td>0.000000</td>\n",
       "    </tr>\n",
       "    <tr>\n",
       "      <th>25%</th>\n",
       "      <td>0.414179</td>\n",
       "      <td>0.302553</td>\n",
       "      <td>0.367009</td>\n",
       "    </tr>\n",
       "    <tr>\n",
       "      <th>50%</th>\n",
       "      <td>0.495151</td>\n",
       "      <td>0.481524</td>\n",
       "      <td>0.503663</td>\n",
       "    </tr>\n",
       "    <tr>\n",
       "      <th>75%</th>\n",
       "      <td>0.582362</td>\n",
       "      <td>0.594474</td>\n",
       "      <td>0.610298</td>\n",
       "    </tr>\n",
       "    <tr>\n",
       "      <th>max</th>\n",
       "      <td>1.000000</td>\n",
       "      <td>1.000000</td>\n",
       "      <td>1.000000</td>\n",
       "    </tr>\n",
       "  </tbody>\n",
       "</table>\n",
       "</div>"
      ],
      "text/plain": [
       "         log_Area   log_Price  log_Per_Sqft\n",
       "count  963.000000  963.000000    963.000000\n",
       "mean     0.494620    0.457086      0.486839\n",
       "std      0.141526    0.199822      0.156705\n",
       "min      0.000000    0.000000      0.000000\n",
       "25%      0.414179    0.302553      0.367009\n",
       "50%      0.495151    0.481524      0.503663\n",
       "75%      0.582362    0.594474      0.610298\n",
       "max      1.000000    1.000000      1.000000"
      ]
     },
     "execution_count": 42,
     "metadata": {},
     "output_type": "execute_result"
    }
   ],
   "source": [
    "df.describe()"
   ]
  },
  {
   "cell_type": "code",
   "execution_count": 43,
   "id": "c2dc76e9-5e44-4d1e-bb72-47cc31694970",
   "metadata": {
    "tags": []
   },
   "outputs": [
    {
     "name": "stdout",
     "output_type": "stream",
     "text": [
      "value counts of column BHK\n",
      "3    399\n",
      "2    291\n",
      "4    166\n",
      "1     77\n",
      "5     23\n",
      "6      6\n",
      "7      1\n",
      "Name: BHK, dtype: int64\n",
      "------------------------------ \n",
      "\n",
      "value counts of column Bathroom\n",
      "2.0    412\n",
      "3.0    261\n",
      "1.0    123\n",
      "4.0    111\n",
      "5.0     48\n",
      "6.0      5\n",
      "7.0      3\n",
      "Name: Bathroom, dtype: int64\n",
      "------------------------------ \n",
      "\n",
      "value counts of column Furnishing\n",
      "Semi-Furnished    541\n",
      "Unfurnished       286\n",
      "Furnished         136\n",
      "Name: Furnishing, dtype: int64\n",
      "------------------------------ \n",
      "\n",
      "value counts of column Locality\n",
      "J R Designers Floors, Rohini Sector 24    31\n",
      "Kailash Colony, Greater Kailash           27\n",
      "Lajpat Nagar 2                            27\n",
      "Yamuna Vihar, Shahdara                    26\n",
      "Chittaranjan Park                         23\n",
      "                                          ..\n",
      "Shivnam Apartment, Shahdara                1\n",
      "Gorakh Park West, Shahdara                 1\n",
      "Maujpur, Shahdara                          1\n",
      "Rohtash Nagar, Shahdara                    1\n",
      "Chittaranjan Park Block A                  1\n",
      "Name: Locality, Length: 297, dtype: int64\n",
      "------------------------------ \n",
      "\n",
      "value counts of column Parking\n",
      "1.0     649\n",
      "2.0     239\n",
      "3.0      51\n",
      "4.0      10\n",
      "5.0       7\n",
      "39.0      6\n",
      "10.0      1\n",
      "Name: Parking, dtype: int64\n",
      "------------------------------ \n",
      "\n",
      "value counts of column Status\n",
      "Ready_to_move    900\n",
      "Almost_ready      63\n",
      "Name: Status, dtype: int64\n",
      "------------------------------ \n",
      "\n",
      "value counts of column Transaction\n",
      "Resale          583\n",
      "New_Property    380\n",
      "Name: Transaction, dtype: int64\n",
      "------------------------------ \n",
      "\n",
      "value counts of column Type\n",
      "Builder_Floor    523\n",
      "Apartment        440\n",
      "Name: Type, dtype: int64\n",
      "------------------------------ \n",
      "\n"
     ]
    }
   ],
   "source": [
    "for col in cats:\n",
    " print(f'value counts of column {col}')\n",
    " print(df[col].value_counts())\n",
    " print('---'*10, '\\n')"
   ]
  },
  {
   "cell_type": "markdown",
   "id": "3533bc2a-a962-487e-bc48-b7d323ef83e0",
   "metadata": {},
   "source": [
    "Applying One-Hot Encoder and Label Encoder"
   ]
  },
  {
   "cell_type": "code",
   "execution_count": 44,
   "id": "9deb0401-c56a-4f35-bf63-5562827379dc",
   "metadata": {},
   "outputs": [],
   "source": [
    "df = df.drop(columns='Locality')"
   ]
  },
  {
   "cell_type": "code",
   "execution_count": 45,
   "id": "9824b80d-71ce-4c55-bec7-5e70c0b7e2fb",
   "metadata": {},
   "outputs": [
    {
     "name": "stdout",
     "output_type": "stream",
     "text": [
      "Label encoded 3 columns.\n"
     ]
    }
   ],
   "source": [
    "from sklearn.preprocessing import LabelEncoder\n",
    "\n",
    "le = LabelEncoder()\n",
    "transform_counter = 0\n",
    "\n",
    "# iterate through all the categorical columns\n",
    "for col in df.select_dtypes('object').columns:\n",
    "    \n",
    "    # select only those columns where number of unique values in the category is less than or equal to 2 \n",
    "    if pd.Series.nunique(df[col]) <= 2:\n",
    "        df[col] = le.fit_transform(df[col].astype(str))\n",
    "\n",
    "        transform_counter+=1\n",
    "        \n",
    "print(\"Label encoded {} columns.\".format(transform_counter))    "
   ]
  },
  {
   "cell_type": "code",
   "execution_count": 46,
   "id": "1b1062dc-6cba-419b-8b7b-7fb9190afcb6",
   "metadata": {},
   "outputs": [
    {
     "name": "stderr",
     "output_type": "stream",
     "text": [
      "C:\\ProgramData\\Anaconda3\\lib\\site-packages\\pandas\\core\\algorithms.py:798: FutureWarning: In a future version, the Index constructor will not infer numeric dtypes when passed object-dtype sequences (matching Series behavior)\n",
      "  uniques = Index(uniques)\n",
      "C:\\ProgramData\\Anaconda3\\lib\\site-packages\\pandas\\core\\algorithms.py:798: FutureWarning: In a future version, the Index constructor will not infer numeric dtypes when passed object-dtype sequences (matching Series behavior)\n",
      "  uniques = Index(uniques)\n",
      "C:\\ProgramData\\Anaconda3\\lib\\site-packages\\pandas\\core\\algorithms.py:798: FutureWarning: In a future version, the Index constructor will not infer numeric dtypes when passed object-dtype sequences (matching Series behavior)\n",
      "  uniques = Index(uniques)\n"
     ]
    }
   ],
   "source": [
    "for cat in ['Parking',\n",
    "            'Furnishing', \n",
    "            'Bathroom',\n",
    "            'BHK']:\n",
    "    onehots = pd.get_dummies(df[cat], prefix=cat)\n",
    "    df = df.join(onehots)"
   ]
  },
  {
   "cell_type": "code",
   "execution_count": null,
   "id": "0a9a2a88-0ebc-456e-a0ef-114b69bc67ae",
   "metadata": {},
   "outputs": [],
   "source": []
  },
  {
   "cell_type": "markdown",
   "id": "2af6bbd1-9da2-4415-9c16-e8c97da77536",
   "metadata": {},
   "source": [
    "# Machine Learning"
   ]
  },
  {
   "cell_type": "markdown",
   "id": "5cd67737-9249-43c5-acc4-2def4fb78305",
   "metadata": {},
   "source": [
    "We will use Linear Regression, Random Forest, and Decicion Tree"
   ]
  },
  {
   "cell_type": "markdown",
   "id": "1eca3277-64ec-46dc-a31b-ec26d3b8177d",
   "metadata": {},
   "source": [
    "## Split Dataset"
   ]
  },
  {
   "cell_type": "code",
   "execution_count": 47,
   "id": "9cf9ad7d-87ac-4c96-a17f-1297f3afb912",
   "metadata": {},
   "outputs": [],
   "source": [
    "from sklearn.model_selection import train_test_split"
   ]
  },
  {
   "cell_type": "code",
   "execution_count": 48,
   "id": "89035560-e122-45f1-b66f-4edbf5f3992a",
   "metadata": {},
   "outputs": [],
   "source": [
    "X= df.select_dtypes(include=[np.number]).drop('Status', axis=1)\n",
    "y = df['Status']\n",
    "X_train, X_test,y_train, y_test = train_test_split(X,y,test_size=1/3, random_state=42)"
   ]
  },
  {
   "cell_type": "code",
   "execution_count": 49,
   "id": "f290cb66-df23-49f7-b49e-123d5e3403c8",
   "metadata": {},
   "outputs": [],
   "source": [
    "from sklearn import linear_model"
   ]
  },
  {
   "cell_type": "code",
   "execution_count": 50,
   "id": "828288a7-8e35-40c9-a72c-1e9cf73a9384",
   "metadata": {},
   "outputs": [],
   "source": [
    "linear = linear_model.LinearRegression()"
   ]
  },
  {
   "cell_type": "code",
   "execution_count": 51,
   "id": "d334cf63-bc81-4708-96c1-d0815b2c5802",
   "metadata": {},
   "outputs": [
    {
     "name": "stdout",
     "output_type": "stream",
     "text": [
      "Coefficient: \n",
      " [ 1.29426293e-01  6.31013808e-02 -9.82279347e-02 -1.52150152e-01\n",
      " -2.00348354e-01 -2.62746184e-02 -2.17835662e-02  5.28251479e-02\n",
      " -1.40932179e-02  4.38019055e-02  6.93889390e-17 -3.44756509e-02\n",
      " -2.21272819e-02  3.39757849e-02 -1.18485030e-02  7.36121109e-03\n",
      "  7.37070155e-03  5.21057828e-02 -2.40973713e-02  7.17711203e-02\n",
      "  8.43195777e-02 -1.98831022e-01  7.43084424e-04 -1.73374659e-02\n",
      " -1.39301726e-02  8.40474445e-02 -2.03673594e-01  4.73050902e-02\n",
      "  1.02845613e-01]\n",
      "Intercept: \n",
      " 1.028282179553706\n"
     ]
    }
   ],
   "source": [
    "linear.fit(X_train, y_train)\n",
    "linear.score(X_train, y_train)\n",
    "# Equation coefficiencent and intercept\n",
    "print('Coefficient: \\n',linear.coef_)\n",
    "print('Intercept: \\n',linear.intercept_)\n",
    "# Predict Output\n",
    "predicted = linear.predict(X_test)"
   ]
  },
  {
   "cell_type": "code",
   "execution_count": 52,
   "id": "c2670ddd-6c37-422d-893a-dccf06927b9f",
   "metadata": {
    "collapsed": true,
    "jupyter": {
     "outputs_hidden": true
    },
    "tags": []
   },
   "outputs": [
    {
     "data": {
      "text/plain": [
       "array([0.83456668, 0.95938337, 1.00642724, 0.94036469, 0.8829995 ,\n",
       "       1.05175698, 0.86534582, 0.95253615, 0.89407786, 1.01228416,\n",
       "       1.05580052, 1.01692266, 0.94419863, 0.99245134, 1.07628058,\n",
       "       1.01824779, 0.83666844, 1.07709553, 0.81328452, 1.0313108 ,\n",
       "       1.01143701, 1.15035902, 0.88136583, 1.0358689 , 0.90595043,\n",
       "       1.03240416, 0.81942022, 1.03952088, 1.02132599, 0.96834167,\n",
       "       0.66335224, 0.91516078, 0.9918376 , 0.40173669, 0.89505166,\n",
       "       1.02624863, 0.78926103, 1.02374621, 0.82788607, 0.71258511,\n",
       "       0.92382971, 0.98421114, 0.91215385, 1.02737733, 0.94641722,\n",
       "       1.01165735, 0.9174568 , 0.87333609, 0.95472784, 0.76413361,\n",
       "       0.85454861, 0.99425977, 0.97933585, 0.95356959, 0.96266865,\n",
       "       0.95685677, 0.85934298, 0.99984879, 1.10109468, 0.95088276,\n",
       "       0.93381451, 0.92171417, 0.9237246 , 0.89179357, 0.97166145,\n",
       "       0.96501894, 1.02894887, 0.91721415, 0.82042147, 0.99186651,\n",
       "       0.81328452, 1.07792841, 0.84673113, 1.0405563 , 0.97363992,\n",
       "       0.87858987, 0.89936108, 0.94575923, 0.8445233 , 0.8463535 ,\n",
       "       0.92306588, 1.01471872, 0.99810254, 1.06587243, 0.93112936,\n",
       "       1.07063514, 1.04306142, 0.89954111, 0.84887321, 0.897133  ,\n",
       "       0.98497545, 0.97301608, 1.00392746, 0.60723829, 0.81887608,\n",
       "       0.93739937, 0.88357746, 0.84245371, 0.99970781, 0.85293908,\n",
       "       0.96623907, 0.6421548 , 0.98685297, 0.90859032, 1.03254587,\n",
       "       0.65303109, 0.98171732, 0.81293012, 1.06257785, 0.97515855,\n",
       "       0.88759717, 1.07445021, 0.70335868, 1.01397291, 0.95933458,\n",
       "       1.04879848, 1.00989691, 1.05782394, 0.8661833 , 1.01908921,\n",
       "       1.06671579, 0.83529522, 0.94482098, 0.97888093, 0.82982706,\n",
       "       1.06729423, 0.85854562, 0.97789117, 0.92506016, 1.03403114,\n",
       "       0.87274026, 0.88860961, 0.94172869, 0.93530508, 0.94701165,\n",
       "       0.94221973, 0.98338726, 0.89745938, 0.92502295, 0.89727431,\n",
       "       0.97959453, 1.10793463, 0.9019011 , 0.91437375, 1.01500812,\n",
       "       0.94475223, 0.87566573, 1.06375983, 0.864827  , 0.95323955,\n",
       "       0.92309399, 0.83648319, 0.90802863, 1.08128035, 0.79703396,\n",
       "       0.95490374, 1.04028298, 1.09491188, 1.02803633, 0.99916343,\n",
       "       1.05362202, 0.96325448, 0.97990271, 0.89363671, 0.97231878,\n",
       "       0.9254027 , 0.95210828, 0.95000178, 0.84672668, 0.85741395,\n",
       "       1.05346446, 1.01544587, 1.03838523, 0.9988031 , 1.04619117,\n",
       "       0.93571847, 1.01592823, 0.99017819, 0.93070531, 0.85058568,\n",
       "       0.95150656, 0.92843738, 0.82788607, 1.02432106, 1.03844744,\n",
       "       0.88481464, 1.03140749, 0.59998905, 0.92977249, 0.81306723,\n",
       "       0.80355832, 0.9034019 , 0.81816451, 1.03076047, 0.87211154,\n",
       "       0.99156375, 0.7438113 , 0.86048274, 0.96768873, 0.96050143,\n",
       "       1.02626805, 0.95464995, 0.9127441 , 0.98286117, 1.0873906 ,\n",
       "       0.93519582, 0.91758746, 1.0193705 , 1.06708554, 0.84725764,\n",
       "       0.92012486, 0.94445427, 0.84709826, 0.96079305, 1.17134958,\n",
       "       0.93240201, 1.07130044, 0.92128904, 0.92082465, 0.9019011 ,\n",
       "       0.92025569, 0.9543736 , 0.92594136, 1.07657809, 1.00405331,\n",
       "       0.77680092, 0.86965795, 0.85348102, 0.84570074, 1.0374078 ,\n",
       "       0.95989429, 0.91980615, 0.93049507, 0.99800793, 0.74549806,\n",
       "       0.99937414, 0.87180881, 0.94476263, 1.08221055, 0.9494064 ,\n",
       "       1.03279409, 0.96535568, 0.87331174, 1.0728502 , 0.61970038,\n",
       "       0.94822477, 1.10152316, 1.02323999, 0.93296415, 0.82154898,\n",
       "       1.01351301, 0.96266865, 0.90897986, 0.90741469, 1.02519012,\n",
       "       0.91896125, 1.06111131, 0.95628391, 0.85054883, 0.92834315,\n",
       "       0.99607005, 0.85293908, 0.95758003, 1.00912247, 0.83194096,\n",
       "       1.03141896, 1.00032002, 0.9263067 , 0.9791915 , 0.79994933,\n",
       "       1.00438361, 1.02020929, 0.91944669, 0.8355972 , 0.96625673,\n",
       "       0.90001844, 0.82603081, 0.91615315, 0.81328452, 0.83684186,\n",
       "       0.69537328, 0.91889858, 1.02410581, 0.79802912, 0.8343291 ,\n",
       "       0.88490049, 0.92368767, 0.87678926, 1.12137613, 0.8548452 ,\n",
       "       0.94747151, 0.9567711 , 0.96748804, 0.8738458 , 0.87527604,\n",
       "       0.98078906, 0.99720574, 0.95386895, 0.98185193, 1.00190535,\n",
       "       0.94582823, 0.9417233 , 1.10413165, 0.9644895 , 0.864827  ,\n",
       "       0.9636323 , 0.88490049, 0.98114912, 0.93009934, 0.87075257,\n",
       "       0.98212322, 0.83486528, 0.98735242, 0.86180766, 0.78432704,\n",
       "       0.93090112, 1.00866344, 0.96946539, 0.58952579, 1.03719747,\n",
       "       0.98636993])"
      ]
     },
     "execution_count": 52,
     "metadata": {},
     "output_type": "execute_result"
    }
   ],
   "source": [
    "predicted"
   ]
  },
  {
   "cell_type": "code",
   "execution_count": 53,
   "id": "5b1c89f3-7be4-47c9-835b-d82cda169cc5",
   "metadata": {},
   "outputs": [
    {
     "name": "stdout",
     "output_type": "stream",
     "text": [
      "0.1261508616791022\n",
      "0.2313326517757616\n",
      "0.124727290203131\n"
     ]
    }
   ],
   "source": [
    "from sklearn.metrics import mean_squared_error, mean_absolute_error, r2_score\n",
    "print(mean_absolute_error(y_test, predicted)) # MAE\n",
    "print(mean_squared_error(y_test, predicted, squared=False)) # RMSE\n",
    "print(r2_score(y_test, predicted)) # R2 score"
   ]
  },
  {
   "cell_type": "markdown",
   "id": "410fffcb-ac3f-433d-b6d0-493aa083101f",
   "metadata": {},
   "source": [
    "# Not Recommended using Linear Regression"
   ]
  },
  {
   "cell_type": "code",
   "execution_count": 54,
   "id": "8b3d4a8e-fa4c-4c7c-9cc1-72dd71583250",
   "metadata": {
    "tags": []
   },
   "outputs": [],
   "source": [
    "y_pred_train = linear.predict(X_train)"
   ]
  },
  {
   "cell_type": "code",
   "execution_count": 55,
   "id": "0fa59f62-4220-4c2f-bdc7-3e51c9bf3b73",
   "metadata": {},
   "outputs": [
    {
     "name": "stdout",
     "output_type": "stream",
     "text": [
      "0.15989258549406316\n"
     ]
    }
   ],
   "source": [
    "print(r2_score(y_train, y_pred_train)) # R2 score to check Overfitting"
   ]
  },
  {
   "cell_type": "markdown",
   "id": "36b01607-905c-48e7-b8a4-08e33e93771e",
   "metadata": {},
   "source": [
    "# Random Forest Regressor"
   ]
  },
  {
   "cell_type": "code",
   "execution_count": 56,
   "id": "791f0bd0-2c33-4a3c-adb0-7637d92a8e1c",
   "metadata": {
    "tags": []
   },
   "outputs": [
    {
     "data": {
      "text/html": [
       "<div>\n",
       "<style scoped>\n",
       "    .dataframe tbody tr th:only-of-type {\n",
       "        vertical-align: middle;\n",
       "    }\n",
       "\n",
       "    .dataframe tbody tr th {\n",
       "        vertical-align: top;\n",
       "    }\n",
       "\n",
       "    .dataframe thead th {\n",
       "        text-align: right;\n",
       "    }\n",
       "</style>\n",
       "<table border=\"1\" class=\"dataframe\">\n",
       "  <thead>\n",
       "    <tr style=\"text-align: right;\">\n",
       "      <th></th>\n",
       "      <th>1</th>\n",
       "      <th>2</th>\n",
       "      <th>3</th>\n",
       "      <th>4</th>\n",
       "      <th>5</th>\n",
       "      <th>6</th>\n",
       "      <th>7</th>\n",
       "      <th>8</th>\n",
       "      <th>9</th>\n",
       "      <th>10</th>\n",
       "      <th>...</th>\n",
       "      <th>1249</th>\n",
       "      <th>1250</th>\n",
       "      <th>1251</th>\n",
       "      <th>1252</th>\n",
       "      <th>1253</th>\n",
       "      <th>1254</th>\n",
       "      <th>1255</th>\n",
       "      <th>1256</th>\n",
       "      <th>1257</th>\n",
       "      <th>1258</th>\n",
       "    </tr>\n",
       "  </thead>\n",
       "  <tbody>\n",
       "    <tr>\n",
       "      <th>Area</th>\n",
       "      <td>750.0</td>\n",
       "      <td>950.0</td>\n",
       "      <td>600.0</td>\n",
       "      <td>650.0</td>\n",
       "      <td>1300.0</td>\n",
       "      <td>1350.0</td>\n",
       "      <td>650.0</td>\n",
       "      <td>985.0</td>\n",
       "      <td>1300.0</td>\n",
       "      <td>1100.0</td>\n",
       "      <td>...</td>\n",
       "      <td>1900.0</td>\n",
       "      <td>1800.0</td>\n",
       "      <td>1200.0</td>\n",
       "      <td>1800.0</td>\n",
       "      <td>1200.0</td>\n",
       "      <td>4118.0</td>\n",
       "      <td>1050.0</td>\n",
       "      <td>875.0</td>\n",
       "      <td>990.0</td>\n",
       "      <td>11050.0</td>\n",
       "    </tr>\n",
       "    <tr>\n",
       "      <th>BHK</th>\n",
       "      <td>2</td>\n",
       "      <td>2</td>\n",
       "      <td>2</td>\n",
       "      <td>2</td>\n",
       "      <td>4</td>\n",
       "      <td>4</td>\n",
       "      <td>2</td>\n",
       "      <td>3</td>\n",
       "      <td>4</td>\n",
       "      <td>3</td>\n",
       "      <td>...</td>\n",
       "      <td>3</td>\n",
       "      <td>3</td>\n",
       "      <td>3</td>\n",
       "      <td>3</td>\n",
       "      <td>3</td>\n",
       "      <td>4</td>\n",
       "      <td>3</td>\n",
       "      <td>3</td>\n",
       "      <td>2</td>\n",
       "      <td>3</td>\n",
       "    </tr>\n",
       "    <tr>\n",
       "      <th>Bathroom</th>\n",
       "      <td>2.0</td>\n",
       "      <td>2.0</td>\n",
       "      <td>2.0</td>\n",
       "      <td>2.0</td>\n",
       "      <td>3.0</td>\n",
       "      <td>3.0</td>\n",
       "      <td>2.0</td>\n",
       "      <td>3.0</td>\n",
       "      <td>4.0</td>\n",
       "      <td>2.0</td>\n",
       "      <td>...</td>\n",
       "      <td>4.0</td>\n",
       "      <td>3.0</td>\n",
       "      <td>2.0</td>\n",
       "      <td>3.0</td>\n",
       "      <td>3.0</td>\n",
       "      <td>5.0</td>\n",
       "      <td>2.0</td>\n",
       "      <td>3.0</td>\n",
       "      <td>2.0</td>\n",
       "      <td>3.0</td>\n",
       "    </tr>\n",
       "    <tr>\n",
       "      <th>Furnishing</th>\n",
       "      <td>Semi-Furnished</td>\n",
       "      <td>Furnished</td>\n",
       "      <td>Semi-Furnished</td>\n",
       "      <td>Semi-Furnished</td>\n",
       "      <td>Semi-Furnished</td>\n",
       "      <td>Semi-Furnished</td>\n",
       "      <td>Semi-Furnished</td>\n",
       "      <td>Unfurnished</td>\n",
       "      <td>Semi-Furnished</td>\n",
       "      <td>Semi-Furnished</td>\n",
       "      <td>...</td>\n",
       "      <td>Semi-Furnished</td>\n",
       "      <td>Semi-Furnished</td>\n",
       "      <td>Semi-Furnished</td>\n",
       "      <td>Semi-Furnished</td>\n",
       "      <td>Semi-Furnished</td>\n",
       "      <td>Unfurnished</td>\n",
       "      <td>Semi-Furnished</td>\n",
       "      <td>Semi-Furnished</td>\n",
       "      <td>Unfurnished</td>\n",
       "      <td>Unfurnished</td>\n",
       "    </tr>\n",
       "    <tr>\n",
       "      <th>Locality</th>\n",
       "      <td>J R Designers Floors, Rohini Sector 24</td>\n",
       "      <td>Citizen Apartment, Rohini Sector 13</td>\n",
       "      <td>Rohini Sector 24</td>\n",
       "      <td>Rohini Sector 24 carpet area 650 sqft status R...</td>\n",
       "      <td>Rohini Sector 24</td>\n",
       "      <td>Rohini Sector 24</td>\n",
       "      <td>Delhi Homes, Rohini Sector 24</td>\n",
       "      <td>Rohini Sector 21</td>\n",
       "      <td>Rohini Sector 22</td>\n",
       "      <td>Rohini Sector 20</td>\n",
       "      <td>...</td>\n",
       "      <td>Chittaranjan Park</td>\n",
       "      <td>Chittaranjan Park</td>\n",
       "      <td>Chittaranjan Park</td>\n",
       "      <td>Nehru Enclave, Kalkaji</td>\n",
       "      <td>Chittaranjan Park</td>\n",
       "      <td>Chittaranjan Park</td>\n",
       "      <td>Chittaranjan Park</td>\n",
       "      <td>Chittaranjan Park</td>\n",
       "      <td>Chittaranjan Park Block A</td>\n",
       "      <td>Chittaranjan Park</td>\n",
       "    </tr>\n",
       "    <tr>\n",
       "      <th>Parking</th>\n",
       "      <td>1.0</td>\n",
       "      <td>1.0</td>\n",
       "      <td>1.0</td>\n",
       "      <td>1.0</td>\n",
       "      <td>1.0</td>\n",
       "      <td>1.0</td>\n",
       "      <td>1.0</td>\n",
       "      <td>1.0</td>\n",
       "      <td>1.0</td>\n",
       "      <td>1.0</td>\n",
       "      <td>...</td>\n",
       "      <td>2.0</td>\n",
       "      <td>2.0</td>\n",
       "      <td>1.0</td>\n",
       "      <td>1.0</td>\n",
       "      <td>1.0</td>\n",
       "      <td>3.0</td>\n",
       "      <td>3.0</td>\n",
       "      <td>3.0</td>\n",
       "      <td>1.0</td>\n",
       "      <td>1.0</td>\n",
       "    </tr>\n",
       "    <tr>\n",
       "      <th>Price</th>\n",
       "      <td>5000000</td>\n",
       "      <td>15500000</td>\n",
       "      <td>4200000</td>\n",
       "      <td>6200000</td>\n",
       "      <td>15500000</td>\n",
       "      <td>10000000</td>\n",
       "      <td>4000000</td>\n",
       "      <td>6800000</td>\n",
       "      <td>15000000</td>\n",
       "      <td>6200000</td>\n",
       "      <td>...</td>\n",
       "      <td>28500000</td>\n",
       "      <td>29000000</td>\n",
       "      <td>15500000</td>\n",
       "      <td>26000000</td>\n",
       "      <td>16500000</td>\n",
       "      <td>55000000</td>\n",
       "      <td>12500000</td>\n",
       "      <td>17500000</td>\n",
       "      <td>11500000</td>\n",
       "      <td>18500000</td>\n",
       "    </tr>\n",
       "    <tr>\n",
       "      <th>Status</th>\n",
       "      <td>Ready_to_move</td>\n",
       "      <td>Ready_to_move</td>\n",
       "      <td>Ready_to_move</td>\n",
       "      <td>Ready_to_move</td>\n",
       "      <td>Ready_to_move</td>\n",
       "      <td>Ready_to_move</td>\n",
       "      <td>Ready_to_move</td>\n",
       "      <td>Almost_ready</td>\n",
       "      <td>Ready_to_move</td>\n",
       "      <td>Ready_to_move</td>\n",
       "      <td>...</td>\n",
       "      <td>Ready_to_move</td>\n",
       "      <td>Ready_to_move</td>\n",
       "      <td>Ready_to_move</td>\n",
       "      <td>Ready_to_move</td>\n",
       "      <td>Ready_to_move</td>\n",
       "      <td>Ready_to_move</td>\n",
       "      <td>Ready_to_move</td>\n",
       "      <td>Ready_to_move</td>\n",
       "      <td>Ready_to_move</td>\n",
       "      <td>Ready_to_move</td>\n",
       "    </tr>\n",
       "    <tr>\n",
       "      <th>Transaction</th>\n",
       "      <td>New_Property</td>\n",
       "      <td>Resale</td>\n",
       "      <td>Resale</td>\n",
       "      <td>New_Property</td>\n",
       "      <td>New_Property</td>\n",
       "      <td>Resale</td>\n",
       "      <td>New_Property</td>\n",
       "      <td>New_Property</td>\n",
       "      <td>New_Property</td>\n",
       "      <td>New_Property</td>\n",
       "      <td>...</td>\n",
       "      <td>New_Property</td>\n",
       "      <td>Resale</td>\n",
       "      <td>Resale</td>\n",
       "      <td>Resale</td>\n",
       "      <td>Resale</td>\n",
       "      <td>New_Property</td>\n",
       "      <td>Resale</td>\n",
       "      <td>New_Property</td>\n",
       "      <td>Resale</td>\n",
       "      <td>New_Property</td>\n",
       "    </tr>\n",
       "    <tr>\n",
       "      <th>Type</th>\n",
       "      <td>Apartment</td>\n",
       "      <td>Apartment</td>\n",
       "      <td>Builder_Floor</td>\n",
       "      <td>Builder_Floor</td>\n",
       "      <td>Builder_Floor</td>\n",
       "      <td>Builder_Floor</td>\n",
       "      <td>Apartment</td>\n",
       "      <td>Builder_Floor</td>\n",
       "      <td>Builder_Floor</td>\n",
       "      <td>Builder_Floor</td>\n",
       "      <td>...</td>\n",
       "      <td>Builder_Floor</td>\n",
       "      <td>Builder_Floor</td>\n",
       "      <td>Builder_Floor</td>\n",
       "      <td>Builder_Floor</td>\n",
       "      <td>Builder_Floor</td>\n",
       "      <td>Builder_Floor</td>\n",
       "      <td>Builder_Floor</td>\n",
       "      <td>Builder_Floor</td>\n",
       "      <td>Builder_Floor</td>\n",
       "      <td>Builder_Floor</td>\n",
       "    </tr>\n",
       "    <tr>\n",
       "      <th>Per_Sqft</th>\n",
       "      <td>6667.0</td>\n",
       "      <td>6667.0</td>\n",
       "      <td>6667.0</td>\n",
       "      <td>6667.0</td>\n",
       "      <td>6667.0</td>\n",
       "      <td>6667.0</td>\n",
       "      <td>6154.0</td>\n",
       "      <td>6154.0</td>\n",
       "      <td>6154.0</td>\n",
       "      <td>6154.0</td>\n",
       "      <td>...</td>\n",
       "      <td>6878.0</td>\n",
       "      <td>6878.0</td>\n",
       "      <td>12916.0</td>\n",
       "      <td>12916.0</td>\n",
       "      <td>12916.0</td>\n",
       "      <td>12916.0</td>\n",
       "      <td>12916.0</td>\n",
       "      <td>12916.0</td>\n",
       "      <td>12916.0</td>\n",
       "      <td>12916.0</td>\n",
       "    </tr>\n",
       "    <tr>\n",
       "      <th>log_Area</th>\n",
       "      <td>6.620073</td>\n",
       "      <td>6.856462</td>\n",
       "      <td>6.39693</td>\n",
       "      <td>6.476972</td>\n",
       "      <td>7.17012</td>\n",
       "      <td>7.20786</td>\n",
       "      <td>6.476972</td>\n",
       "      <td>6.892642</td>\n",
       "      <td>7.17012</td>\n",
       "      <td>7.003065</td>\n",
       "      <td>...</td>\n",
       "      <td>7.549609</td>\n",
       "      <td>7.495542</td>\n",
       "      <td>7.090077</td>\n",
       "      <td>7.495542</td>\n",
       "      <td>7.090077</td>\n",
       "      <td>8.323123</td>\n",
       "      <td>6.956545</td>\n",
       "      <td>6.774224</td>\n",
       "      <td>6.897705</td>\n",
       "      <td>9.310186</td>\n",
       "    </tr>\n",
       "  </tbody>\n",
       "</table>\n",
       "<p>12 rows × 1005 columns</p>\n",
       "</div>"
      ],
      "text/plain": [
       "                                               1     \\\n",
       "Area                                          750.0   \n",
       "BHK                                               2   \n",
       "Bathroom                                        2.0   \n",
       "Furnishing                           Semi-Furnished   \n",
       "Locality     J R Designers Floors, Rohini Sector 24   \n",
       "Parking                                         1.0   \n",
       "Price                                       5000000   \n",
       "Status                                Ready_to_move   \n",
       "Transaction                            New_Property   \n",
       "Type                                      Apartment   \n",
       "Per_Sqft                                     6667.0   \n",
       "log_Area                                   6.620073   \n",
       "\n",
       "                                            2                 3     \\\n",
       "Area                                       950.0             600.0   \n",
       "BHK                                            2                 2   \n",
       "Bathroom                                     2.0               2.0   \n",
       "Furnishing                             Furnished    Semi-Furnished   \n",
       "Locality     Citizen Apartment, Rohini Sector 13  Rohini Sector 24   \n",
       "Parking                                      1.0               1.0   \n",
       "Price                                   15500000           4200000   \n",
       "Status                             Ready_to_move     Ready_to_move   \n",
       "Transaction                               Resale            Resale   \n",
       "Type                                   Apartment     Builder_Floor   \n",
       "Per_Sqft                                  6667.0            6667.0   \n",
       "log_Area                                6.856462           6.39693   \n",
       "\n",
       "                                                          4     \\\n",
       "Area                                                     650.0   \n",
       "BHK                                                          2   \n",
       "Bathroom                                                   2.0   \n",
       "Furnishing                                      Semi-Furnished   \n",
       "Locality     Rohini Sector 24 carpet area 650 sqft status R...   \n",
       "Parking                                                    1.0   \n",
       "Price                                                  6200000   \n",
       "Status                                           Ready_to_move   \n",
       "Transaction                                       New_Property   \n",
       "Type                                             Builder_Floor   \n",
       "Per_Sqft                                                6667.0   \n",
       "log_Area                                              6.476972   \n",
       "\n",
       "                         5                 6     \\\n",
       "Area                   1300.0            1350.0   \n",
       "BHK                         4                 4   \n",
       "Bathroom                  3.0               3.0   \n",
       "Furnishing     Semi-Furnished    Semi-Furnished   \n",
       "Locality     Rohini Sector 24  Rohini Sector 24   \n",
       "Parking                   1.0               1.0   \n",
       "Price                15500000          10000000   \n",
       "Status          Ready_to_move     Ready_to_move   \n",
       "Transaction      New_Property            Resale   \n",
       "Type            Builder_Floor     Builder_Floor   \n",
       "Per_Sqft               6667.0            6667.0   \n",
       "log_Area              7.17012           7.20786   \n",
       "\n",
       "                                      7                 8     \\\n",
       "Area                                 650.0             985.0   \n",
       "BHK                                      2                 3   \n",
       "Bathroom                               2.0               3.0   \n",
       "Furnishing                  Semi-Furnished       Unfurnished   \n",
       "Locality     Delhi Homes, Rohini Sector 24  Rohini Sector 21   \n",
       "Parking                                1.0               1.0   \n",
       "Price                              4000000           6800000   \n",
       "Status                       Ready_to_move      Almost_ready   \n",
       "Transaction                   New_Property      New_Property   \n",
       "Type                             Apartment     Builder_Floor   \n",
       "Per_Sqft                            6154.0            6154.0   \n",
       "log_Area                          6.476972          6.892642   \n",
       "\n",
       "                         9                 10    ...               1249  \\\n",
       "Area                   1300.0            1100.0  ...             1900.0   \n",
       "BHK                         4                 3  ...                  3   \n",
       "Bathroom                  4.0               2.0  ...                4.0   \n",
       "Furnishing     Semi-Furnished    Semi-Furnished  ...     Semi-Furnished   \n",
       "Locality     Rohini Sector 22  Rohini Sector 20  ...  Chittaranjan Park   \n",
       "Parking                   1.0               1.0  ...                2.0   \n",
       "Price                15000000           6200000  ...           28500000   \n",
       "Status          Ready_to_move     Ready_to_move  ...      Ready_to_move   \n",
       "Transaction      New_Property      New_Property  ...       New_Property   \n",
       "Type            Builder_Floor     Builder_Floor  ...      Builder_Floor   \n",
       "Per_Sqft               6154.0            6154.0  ...             6878.0   \n",
       "log_Area              7.17012          7.003065  ...           7.549609   \n",
       "\n",
       "                          1250               1251                    1252  \\\n",
       "Area                    1800.0             1200.0                  1800.0   \n",
       "BHK                          3                  3                       3   \n",
       "Bathroom                   3.0                2.0                     3.0   \n",
       "Furnishing      Semi-Furnished     Semi-Furnished          Semi-Furnished   \n",
       "Locality     Chittaranjan Park  Chittaranjan Park  Nehru Enclave, Kalkaji   \n",
       "Parking                    2.0                1.0                     1.0   \n",
       "Price                 29000000           15500000                26000000   \n",
       "Status           Ready_to_move      Ready_to_move           Ready_to_move   \n",
       "Transaction             Resale             Resale                  Resale   \n",
       "Type             Builder_Floor      Builder_Floor           Builder_Floor   \n",
       "Per_Sqft                6878.0            12916.0                 12916.0   \n",
       "log_Area              7.495542           7.090077                7.495542   \n",
       "\n",
       "                          1253               1254               1255  \\\n",
       "Area                    1200.0             4118.0             1050.0   \n",
       "BHK                          3                  4                  3   \n",
       "Bathroom                   3.0                5.0                2.0   \n",
       "Furnishing      Semi-Furnished        Unfurnished     Semi-Furnished   \n",
       "Locality     Chittaranjan Park  Chittaranjan Park  Chittaranjan Park   \n",
       "Parking                    1.0                3.0                3.0   \n",
       "Price                 16500000           55000000           12500000   \n",
       "Status           Ready_to_move      Ready_to_move      Ready_to_move   \n",
       "Transaction             Resale       New_Property             Resale   \n",
       "Type             Builder_Floor      Builder_Floor      Builder_Floor   \n",
       "Per_Sqft               12916.0            12916.0            12916.0   \n",
       "log_Area              7.090077           8.323123           6.956545   \n",
       "\n",
       "                          1256                       1257               1258  \n",
       "Area                     875.0                      990.0            11050.0  \n",
       "BHK                          3                          2                  3  \n",
       "Bathroom                   3.0                        2.0                3.0  \n",
       "Furnishing      Semi-Furnished                Unfurnished        Unfurnished  \n",
       "Locality     Chittaranjan Park  Chittaranjan Park Block A  Chittaranjan Park  \n",
       "Parking                    3.0                        1.0                1.0  \n",
       "Price                 17500000                   11500000           18500000  \n",
       "Status           Ready_to_move              Ready_to_move      Ready_to_move  \n",
       "Transaction       New_Property                     Resale       New_Property  \n",
       "Type             Builder_Floor              Builder_Floor      Builder_Floor  \n",
       "Per_Sqft               12916.0                    12916.0            12916.0  \n",
       "log_Area              6.774224                   6.897705           9.310186  \n",
       "\n",
       "[12 rows x 1005 columns]"
      ]
     },
     "execution_count": 56,
     "metadata": {},
     "output_type": "execute_result"
    }
   ],
   "source": [
    "df_clean.T"
   ]
  },
  {
   "cell_type": "code",
   "execution_count": 57,
   "id": "3b65c81b-53a3-46df-a779-5984af81d202",
   "metadata": {
    "tags": []
   },
   "outputs": [],
   "source": [
    "df_clean= df_clean.drop(columns='Locality')"
   ]
  },
  {
   "cell_type": "code",
   "execution_count": 58,
   "id": "ccd0f005-e013-4ac3-960b-4b8b9fa29dcf",
   "metadata": {},
   "outputs": [
    {
     "name": "stdout",
     "output_type": "stream",
     "text": [
      "Label encoded 3 columns.\n"
     ]
    }
   ],
   "source": [
    "from sklearn.preprocessing import LabelEncoder\n",
    "\n",
    "le = LabelEncoder()\n",
    "transform_counter = 0\n",
    "\n",
    "# iterate through all the categorical columns\n",
    "for col in df_clean.select_dtypes('object').columns:\n",
    "    \n",
    "    # select only those columns where number of unique values in the category is less than or equal to 2 \n",
    "    if pd.Series.nunique(df_clean[col]) <= 2:\n",
    "        df_clean[col] = le.fit_transform(df_clean[col].astype(str))\n",
    "\n",
    "        transform_counter+=1\n",
    "        \n",
    "print(\"Label encoded {} columns.\".format(transform_counter))    "
   ]
  },
  {
   "cell_type": "code",
   "execution_count": 59,
   "id": "44e12080-5b6f-4dc5-98b6-cd75156ba86b",
   "metadata": {
    "tags": []
   },
   "outputs": [
    {
     "name": "stderr",
     "output_type": "stream",
     "text": [
      "C:\\ProgramData\\Anaconda3\\lib\\site-packages\\pandas\\core\\algorithms.py:798: FutureWarning: In a future version, the Index constructor will not infer numeric dtypes when passed object-dtype sequences (matching Series behavior)\n",
      "  uniques = Index(uniques)\n",
      "C:\\ProgramData\\Anaconda3\\lib\\site-packages\\pandas\\core\\algorithms.py:798: FutureWarning: In a future version, the Index constructor will not infer numeric dtypes when passed object-dtype sequences (matching Series behavior)\n",
      "  uniques = Index(uniques)\n",
      "C:\\ProgramData\\Anaconda3\\lib\\site-packages\\pandas\\core\\algorithms.py:798: FutureWarning: In a future version, the Index constructor will not infer numeric dtypes when passed object-dtype sequences (matching Series behavior)\n",
      "  uniques = Index(uniques)\n"
     ]
    }
   ],
   "source": [
    "for cat in ['Parking',\n",
    "            'Furnishing', \n",
    "            'Bathroom',\n",
    "            'BHK']:\n",
    "    onehots = pd.get_dummies(df_clean[cat], prefix=cat)\n",
    "    df_clean = df_clean.join(onehots)"
   ]
  },
  {
   "cell_type": "code",
   "execution_count": 60,
   "id": "b47594cd-179a-4a0b-b8db-8537e16257e8",
   "metadata": {},
   "outputs": [],
   "source": [
    "from sklearn.ensemble import RandomForestRegressor"
   ]
  },
  {
   "cell_type": "code",
   "execution_count": 61,
   "id": "b029f176-fc54-4e61-abb2-3191dec36baf",
   "metadata": {},
   "outputs": [],
   "source": [
    "X= df_clean.select_dtypes(include=[np.number]).drop('Price', axis=1)\n",
    "y = df_clean['Price']\n",
    "X_train, X_test,y_train, y_test = train_test_split(X,y,test_size=1/3, random_state=42)"
   ]
  },
  {
   "cell_type": "code",
   "execution_count": 62,
   "id": "1d4204ba-922e-4781-a39b-6b6dc51b8417",
   "metadata": {},
   "outputs": [],
   "source": [
    "model = RandomForestRegressor()\n",
    "# Train Model using training sets and check score\n",
    "model.fit(X, y)\n",
    "# Predict  Output\n",
    "predicted= model.predict(X_test)"
   ]
  },
  {
   "cell_type": "code",
   "execution_count": 63,
   "id": "7a4f1d64-f50d-4b4e-9976-3ac9ef6e244e",
   "metadata": {},
   "outputs": [
    {
     "name": "stdout",
     "output_type": "stream",
     "text": [
      "2023543.3404406537\n",
      "4135604.39459071\n",
      "0.9815677967731029\n"
     ]
    }
   ],
   "source": [
    "print(mean_absolute_error(y_test, predicted)) # MAE\n",
    "print(mean_squared_error(y_test, predicted, squared=False)) # RMSE\n",
    "print(r2_score(y_test, predicted)) # R2 score"
   ]
  },
  {
   "cell_type": "markdown",
   "id": "1c5ca468-4901-4609-a521-b5dde7600e60",
   "metadata": {},
   "source": [
    "# Random Forest Regressor Performed well"
   ]
  },
  {
   "cell_type": "code",
   "execution_count": 64,
   "id": "159567dc-20b2-4e33-be06-b0eb0d74b62a",
   "metadata": {
    "tags": []
   },
   "outputs": [],
   "source": [
    "y_pred_train = model.predict(X_train)"
   ]
  },
  {
   "cell_type": "code",
   "execution_count": 65,
   "id": "8de2a7a7-5c18-4f0b-b081-47b07c1b4868",
   "metadata": {},
   "outputs": [
    {
     "name": "stdout",
     "output_type": "stream",
     "text": [
      "0.9779843871370644\n"
     ]
    }
   ],
   "source": [
    "print(r2_score(y_train, y_pred_train)) # R2 score to check Overfitting"
   ]
  },
  {
   "cell_type": "code",
   "execution_count": 66,
   "id": "88ff8e2e-d2de-4c57-99cf-e93a8618271a",
   "metadata": {},
   "outputs": [
    {
     "data": {
      "text/plain": [
       "Text(0.5, 1.0, 'Plot the tree-based (or Gini) importance')"
      ]
     },
     "execution_count": 66,
     "metadata": {},
     "output_type": "execute_result"
    },
    {
     "data": {
      "image/png": "[encoded data removed]",
      "text/plain": [
       "<Figure size 864x432 with 1 Axes>"
      ]
     },
     "metadata": {
      "needs_background": "light"
     },
     "output_type": "display_data"
    }
   ],
   "source": [
    "#Feature Importance according Random Forest\n",
    "feature_importance = model.feature_importances_\n",
    "sorted_idx = np.argsort(feature_importance)\n",
    "fig = plt.figure(figsize=(12, 6))\n",
    "plt.barh(range(len(sorted_idx)), feature_importance[sorted_idx], align='center')\n",
    "plt.yticks(range(len(sorted_idx)), np.array(X_test.columns)[sorted_idx])\n",
    "plt.title('Plot the tree-based (or Gini) importance')"
   ]
  },
  {
   "cell_type": "code",
   "execution_count": 70,
   "id": "e2e954d2-6558-420f-a7cd-9c4cf24fd144",
   "metadata": {
    "collapsed": true,
    "jupyter": {
     "outputs_hidden": true
    },
    "tags": []
   },
   "outputs": [
    {
     "name": "stdout",
     "output_type": "stream",
     "text": [
      "Collecting shap\n",
      "  Downloading shap-0.41.0-cp39-cp39-win_amd64.whl (435 kB)\n",
      "Requirement already satisfied: packaging>20.9 in c:\\programdata\\anaconda3\\lib\\site-packages (from shap) (21.3)\n",
      "Requirement already satisfied: scipy in c:\\programdata\\anaconda3\\lib\\site-packages (from shap) (1.7.3)\n",
      "Requirement already satisfied: scikit-learn in c:\\programdata\\anaconda3\\lib\\site-packages (from shap) (1.0.2)\n",
      "Requirement already satisfied: pandas in c:\\programdata\\anaconda3\\lib\\site-packages (from shap) (1.4.2)\n",
      "Requirement already satisfied: cloudpickle in c:\\programdata\\anaconda3\\lib\\site-packages (from shap) (2.0.0)\n",
      "Requirement already satisfied: numba in c:\\programdata\\anaconda3\\lib\\site-packages (from shap) (0.55.1)\n",
      "Requirement already satisfied: tqdm>4.25.0 in c:\\programdata\\anaconda3\\lib\\site-packages (from shap) (4.64.0)\n",
      "Requirement already satisfied: numpy in c:\\programdata\\anaconda3\\lib\\site-packages (from shap) (1.21.5)\n",
      "Collecting slicer==0.0.7\n",
      "  Downloading slicer-0.0.7-py3-none-any.whl (14 kB)\n",
      "Requirement already satisfied: pyparsing!=3.0.5,>=2.0.2 in c:\\programdata\\anaconda3\\lib\\site-packages (from packaging>20.9->shap) (3.0.4)\n",
      "Requirement already satisfied: colorama in c:\\programdata\\anaconda3\\lib\\site-packages (from tqdm>4.25.0->shap) (0.4.4)\n",
      "Requirement already satisfied: llvmlite<0.39,>=0.38.0rc1 in c:\\programdata\\anaconda3\\lib\\site-packages (from numba->shap) (0.38.0)\n",
      "Requirement already satisfied: setuptools in c:\\programdata\\anaconda3\\lib\\site-packages (from numba->shap) (61.2.0)\n",
      "Requirement already satisfied: python-dateutil>=2.8.1 in c:\\programdata\\anaconda3\\lib\\site-packages (from pandas->shap) (2.8.2)\n",
      "Requirement already satisfied: pytz>=2020.1 in c:\\programdata\\anaconda3\\lib\\site-packages (from pandas->shap) (2021.3)\n",
      "Requirement already satisfied: six>=1.5 in c:\\programdata\\anaconda3\\lib\\site-packages (from python-dateutil>=2.8.1->pandas->shap) (1.16.0)\n",
      "Requirement already satisfied: joblib>=0.11 in c:\\programdata\\anaconda3\\lib\\site-packages (from scikit-learn->shap) (1.1.0)\n",
      "Requirement already satisfied: threadpoolctl>=2.0.0 in c:\\programdata\\anaconda3\\lib\\site-packages (from scikit-learn->shap) (2.2.0)\n",
      "Installing collected packages: slicer, shap\n",
      "Successfully installed shap-0.41.0 slicer-0.0.7\n"
     ]
    }
   ],
   "source": [
    "!pip install shap \n",
    "import shap"
   ]
  },
  {
   "cell_type": "code",
   "execution_count": 72,
   "id": "69f9f8d3-02dc-4d5a-8607-b6e2a2e6454d",
   "metadata": {},
   "outputs": [
    {
     "data": {
      "text/plain": [
       "Text(0.5, 1.0, 'SHAP Importance')"
      ]
     },
     "execution_count": 72,
     "metadata": {},
     "output_type": "execute_result"
    },
    {
     "data": {
      "image/png": "[encoded data removed]",
      "text/plain": [
       "<Figure size 864x432 with 1 Axes>"
      ]
     },
     "metadata": {
      "needs_background": "light"
     },
     "output_type": "display_data"
    }
   ],
   "source": [
    "explainer = shap.Explainer(model)\n",
    "shap_values = explainer(X_test)\n",
    "shap_importance = shap_values.abs.mean(0).values\n",
    "sorted_idx = shap_importance.argsort()\n",
    "fig = plt.figure(figsize=(12, 6))\n",
    "plt.barh(range(len(sorted_idx)), shap_importance[sorted_idx], align='center')\n",
    "plt.yticks(range(len(sorted_idx)), np.array(X_test.columns)[sorted_idx])\n",
    "plt.title('SHAP Importance')"
   ]
  },
  {
   "cell_type": "code",
   "execution_count": 78,
   "id": "92d313ca-7532-481b-927f-bbc2a34432a3",
   "metadata": {},
   "outputs": [
    {
     "data": {
      "image/png": "[encoded data removed]",
      "text/plain": [
       "<Figure size 576x684 with 2 Axes>"
      ]
     },
     "metadata": {
      "needs_background": "light"
     },
     "output_type": "display_data"
    }
   ],
   "source": [
    "shap.summary_plot(shap_values, X_test)"
   ]
  },
  {
   "cell_type": "code",
   "execution_count": 74,
   "id": "8653a2b5-958d-4705-b74b-5c4d48525bb7",
   "metadata": {},
   "outputs": [
    {
     "data": {
      "text/plain": [
       "Text(0.5, 1.0, 'Permutation Importance')"
      ]
     },
     "execution_count": 74,
     "metadata": {},
     "output_type": "execute_result"
    },
    {
     "data": {
      "image/png": "[encoded data removed]",
      "text/plain": [
       "<Figure size 864x432 with 1 Axes>"
      ]
     },
     "metadata": {
      "needs_background": "light"
     },
     "output_type": "display_data"
    }
   ],
   "source": [
    "perm_importance = permutation_importance(model, X_test, y_test, n_repeats=10, random_state=1066)\n",
    "sorted_idx = perm_importance.importances_mean.argsort()\n",
    "fig = plt.figure(figsize=(12, 6))\n",
    "plt.barh(range(len(sorted_idx)), perm_importance.importances_mean[sorted_idx], align='center')\n",
    "plt.yticks(range(len(sorted_idx)), np.array(X_test.columns)[sorted_idx])\n",
    "plt.title('Permutation Importance')\n"
   ]
  },
  {
   "cell_type": "markdown",
   "id": "9c62bb65-0270-46ea-ae01-cce9430d6184",
   "metadata": {},
   "source": [
    "# Decision Tree Classifier"
   ]
  },
  {
   "cell_type": "code",
   "execution_count": 166,
   "id": "64565856-710a-43dd-9019-12d56f6c0f82",
   "metadata": {},
   "outputs": [],
   "source": [
    "X= df_clean.select_dtypes(include=[np.number]).drop('Price', axis=1)\n",
    "y = df_clean['Price']\n",
    "X_train, X_test,y_train, y_test = train_test_split(X,y,test_size=1/3, random_state=42)"
   ]
  },
  {
   "cell_type": "code",
   "execution_count": 167,
   "id": "1be1ab22-fe21-4eca-8949-80330dbfde97",
   "metadata": {},
   "outputs": [],
   "source": [
    "from sklearn.tree import DecisionTreeClassifier # import decision tree dari sklearn\n",
    "dt = DecisionTreeClassifier() # inisiasi object dengan nama dt\n",
    "dt.fit(X_train, y_train) # fit model decision tree dari data train\n",
    "predicted = dt.predict(X_test)"
   ]
  },
  {
   "cell_type": "code",
   "execution_count": 168,
   "id": "2ad54be9-8714-42d4-b089-e0438b47f245",
   "metadata": {
    "collapsed": true,
    "jupyter": {
     "outputs_hidden": true
    },
    "tags": []
   },
   "outputs": [
    {
     "name": "stdout",
     "output_type": "stream",
     "text": [
      "              precision    recall  f1-score   support\n",
      "\n",
      "     1000000       0.00      0.00      0.00         2\n",
      "     1490000       0.00      0.00      0.00         1\n",
      "     1500000       0.00      0.00      0.00         1\n",
      "     1550000       0.00      0.00      0.00         0\n",
      "     1600000       0.00      0.00      0.00         2\n",
      "     1650000       0.00      0.00      0.00         0\n",
      "     1700000       0.00      0.00      0.00         2\n",
      "     1800000       0.00      0.00      0.00         2\n",
      "     1900000       1.00      0.25      0.40         4\n",
      "     2000000       0.00      0.00      0.00         1\n",
      "     2100000       0.00      0.00      0.00         1\n",
      "     2150000       0.00      0.00      0.00         0\n",
      "     2200000       0.00      0.00      0.00         3\n",
      "     2300000       0.00      0.00      0.00         1\n",
      "     2350000       0.00      0.00      0.00         0\n",
      "     2400000       0.00      0.00      0.00         1\n",
      "     2500000       0.00      0.00      0.00         2\n",
      "     2550000       0.00      0.00      0.00         1\n",
      "     2600000       0.00      0.00      0.00         3\n",
      "     2670000       0.00      0.00      0.00         1\n",
      "     2700000       0.00      0.00      0.00         1\n",
      "     2800000       0.00      0.00      0.00         1\n",
      "     2900000       0.00      0.00      0.00         2\n",
      "     2940000       1.00      1.00      1.00         1\n",
      "     3000000       0.25      0.33      0.29         3\n",
      "     3100000       0.00      0.00      0.00         1\n",
      "     3200000       0.50      0.50      0.50         2\n",
      "     3300000       0.50      0.50      0.50         2\n",
      "     3310000       0.00      0.00      0.00         0\n",
      "     3400000       0.00      0.00      0.00         1\n",
      "     3500000       0.33      0.20      0.25         5\n",
      "     3600000       0.00      0.00      0.00         0\n",
      "     3700000       0.50      0.67      0.57         3\n",
      "     3800000       0.00      0.00      0.00         4\n",
      "     4000000       0.00      0.00      0.00         5\n",
      "     4100000       0.00      0.00      0.00         2\n",
      "     4200000       0.00      0.00      0.00         5\n",
      "     4300000       0.00      0.00      0.00         0\n",
      "     4500000       0.00      0.00      0.00         4\n",
      "     4600000       0.00      0.00      0.00         2\n",
      "     4700000       0.00      0.00      0.00         0\n",
      "     4900000       0.00      0.00      0.00         0\n",
      "     4950000       0.00      0.00      0.00         1\n",
      "     5000000       0.00      0.00      0.00         1\n",
      "     5130000       0.00      0.00      0.00         0\n",
      "     5200000       0.00      0.00      0.00         1\n",
      "     5300000       0.00      0.00      0.00         0\n",
      "     5400000       0.00      0.00      0.00         0\n",
      "     5500000       0.11      0.25      0.15         4\n",
      "     5510000       0.00      0.00      0.00         0\n",
      "     5600000       0.00      0.00      0.00         1\n",
      "     5700000       0.00      0.00      0.00         1\n",
      "     5800000       0.00      0.00      0.00         1\n",
      "     5890000       1.00      1.00      1.00         1\n",
      "     5990000       0.00      0.00      0.00         1\n",
      "     6000000       0.00      0.00      0.00         3\n",
      "     6200000       0.00      0.00      0.00         4\n",
      "     6500000       0.00      0.00      0.00         3\n",
      "     6600000       0.00      0.00      0.00         1\n",
      "     6700000       0.00      0.00      0.00         2\n",
      "     6800000       0.00      0.00      0.00         4\n",
      "     7000000       0.00      0.00      0.00         6\n",
      "     7200000       0.00      0.00      0.00         1\n",
      "     7300000       0.00      0.00      0.00         1\n",
      "     7500000       0.11      1.00      0.20         1\n",
      "     7600000       0.00      0.00      0.00         1\n",
      "     7700000       0.00      0.00      0.00         1\n",
      "     7800000       0.00      0.00      0.00         1\n",
      "     8000000       0.00      0.00      0.00         4\n",
      "     8100000       0.00      0.00      0.00         1\n",
      "     8400000       0.00      0.00      0.00         0\n",
      "     8500000       0.00      0.00      0.00         5\n",
      "     8600000       0.00      0.00      0.00         1\n",
      "     8770000       0.00      0.00      0.00         1\n",
      "     9000000       0.00      0.00      0.00         4\n",
      "     9200000       0.00      0.00      0.00         1\n",
      "     9300000       0.00      0.00      0.00         0\n",
      "     9500000       0.00      0.00      0.00         1\n",
      "    10000000       0.00      0.00      0.00         4\n",
      "    10300000       0.00      0.00      0.00         0\n",
      "    10500000       0.00      0.00      0.00         1\n",
      "    10800000       0.33      1.00      0.50         1\n",
      "    11000000       0.00      0.00      0.00         2\n",
      "    11500000       0.00      0.00      0.00         1\n",
      "    12000000       0.00      0.00      0.00         5\n",
      "    12500000       0.00      0.00      0.00         3\n",
      "    13000000       0.25      0.33      0.29         3\n",
      "    13100000       0.00      0.00      0.00         1\n",
      "    13400000       0.00      0.00      0.00         1\n",
      "    13500000       0.00      0.00      0.00         4\n",
      "    14000000       0.00      0.00      0.00         3\n",
      "    14200000       0.00      0.00      0.00         2\n",
      "    14300000       1.00      1.00      1.00         1\n",
      "    14500000       0.00      0.00      0.00         3\n",
      "    14700000       0.00      0.00      0.00         0\n",
      "    14800000       0.00      0.00      0.00         1\n",
      "    14900000       0.00      0.00      0.00         1\n",
      "    15000000       0.29      0.29      0.29         7\n",
      "    15500000       0.00      0.00      0.00         1\n",
      "    15600000       1.00      0.50      0.67         2\n",
      "    15800000       0.00      0.00      0.00         2\n",
      "    16000000       0.17      0.17      0.17         6\n",
      "    16200000       0.00      0.00      0.00         0\n",
      "    16300000       0.00      0.00      0.00         1\n",
      "    16500000       0.33      0.14      0.20         7\n",
      "    17000000       0.00      0.00      0.00         4\n",
      "    17200000       0.50      0.50      0.50         2\n",
      "    17400000       1.00      1.00      1.00         1\n",
      "    17500000       0.00      0.00      0.00         4\n",
      "    18000000       1.00      0.50      0.67         2\n",
      "    18500000       0.00      0.00      0.00         3\n",
      "    18800000       0.00      0.00      0.00         1\n",
      "    19000000       0.80      0.80      0.80         5\n",
      "    19500000       0.00      0.00      0.00         1\n",
      "    20000000       0.00      0.00      0.00         4\n",
      "    20500000       0.00      0.00      0.00         1\n",
      "    21000000       0.33      0.25      0.29         4\n",
      "    21500000       0.00      0.00      0.00         1\n",
      "    22000000       0.00      0.00      0.00         4\n",
      "    22500000       0.00      0.00      0.00         2\n",
      "    23000000       0.00      0.00      0.00         1\n",
      "    23100000       0.00      0.00      0.00         0\n",
      "    23500000       0.00      0.00      0.00         2\n",
      "    24000000       0.00      0.00      0.00         1\n",
      "    24500000       0.00      0.00      0.00         1\n",
      "    24700000       0.00      0.00      0.00         0\n",
      "    24900000       0.60      1.00      0.75         3\n",
      "    25000000       0.33      0.33      0.33         6\n",
      "    25500000       1.00      0.67      0.80         3\n",
      "    26000000       0.00      0.00      0.00         5\n",
      "    26500000       0.00      0.00      0.00         2\n",
      "    27000000       0.00      0.00      0.00         2\n",
      "    27500000       0.00      0.00      0.00         4\n",
      "    28000000       0.00      0.00      0.00         1\n",
      "    28500000       0.00      0.00      0.00         1\n",
      "    28600000       0.00      0.00      0.00         0\n",
      "    29000000       0.17      0.50      0.25         2\n",
      "    29500000       0.00      0.00      0.00         2\n",
      "    30000000       0.00      0.00      0.00         5\n",
      "    30500000       0.00      0.00      0.00         1\n",
      "    31000000       0.00      0.00      0.00         0\n",
      "    32500000       0.00      0.00      0.00         3\n",
      "    34000000       0.00      0.00      0.00         1\n",
      "    35000000       0.00      0.00      0.00         4\n",
      "    36000000       0.00      0.00      0.00         0\n",
      "    36500000       0.50      1.00      0.67         1\n",
      "    37000000       0.00      0.00      0.00         0\n",
      "    37500000       0.00      0.00      0.00         5\n",
      "    38000000       0.00      0.00      0.00         0\n",
      "    38500000       0.00      0.00      0.00         0\n",
      "    39000000       0.00      0.00      0.00         1\n",
      "    39700000       0.00      0.00      0.00         1\n",
      "    40000000       0.00      0.00      0.00         1\n",
      "    41000000       1.00      1.00      1.00         1\n",
      "    42500000       0.33      1.00      0.50         1\n",
      "    43100000       0.00      0.00      0.00         1\n",
      "    43200000       0.00      0.00      0.00         1\n",
      "    43500000       0.00      0.00      0.00         0\n",
      "    44000000       0.00      0.00      0.00         1\n",
      "    45000000       0.00      0.00      0.00         1\n",
      "    46000000       0.00      0.00      0.00         1\n",
      "    47500000       0.00      0.00      0.00         1\n",
      "    50000000       0.00      0.00      0.00         1\n",
      "    51000000       1.00      0.33      0.50         3\n",
      "    51100000       0.00      0.00      0.00         1\n",
      "    52500000       0.00      0.00      0.00         2\n",
      "    55000000       0.00      0.00      0.00         1\n",
      "    55300000       0.00      0.00      0.00         0\n",
      "    57000000       0.00      0.00      0.00         0\n",
      "    58000000       0.00      0.00      0.00         0\n",
      "    60000000       0.00      0.00      0.00         0\n",
      "    61500000       0.00      0.00      0.00         1\n",
      "    62500000       0.00      0.00      0.00         2\n",
      "    65000000       0.14      0.50      0.22         2\n",
      "    70000000       0.25      0.33      0.29         3\n",
      "    71000000       0.00      0.00      0.00         1\n",
      "    72500000       0.00      0.00      0.00         1\n",
      "    73700000       0.00      0.00      0.00         0\n",
      "    74000000       0.00      0.00      0.00         0\n",
      "    75000000       0.00      0.00      0.00         2\n",
      "    80000000       0.00      0.00      0.00         1\n",
      "    82500000       0.00      0.00      0.00         1\n",
      "    85000000       0.00      0.00      0.00         1\n",
      "    90000000       0.00      0.00      0.00         1\n",
      "    93000000       1.00      1.00      1.00         2\n",
      "   100000000       0.00      0.00      0.00         2\n",
      "   102500000       0.00      0.00      0.00         0\n",
      "   115000000       0.00      0.00      0.00         1\n",
      "   135000000       0.00      0.00      0.00         1\n",
      "   135500000       0.00      0.00      0.00         1\n",
      "   160000000       0.00      0.00      0.00         1\n",
      "   220000000       0.00      0.00      0.00         1\n",
      "   240000000       0.00      0.00      0.00         2\n",
      "\n",
      "    accuracy                           0.13       335\n",
      "   macro avg       0.10      0.10      0.09       335\n",
      "weighted avg       0.14      0.13      0.12       335\n",
      "\n"
     ]
    },
    {
     "name": "stderr",
     "output_type": "stream",
     "text": [
      "C:\\ProgramData\\Anaconda3\\lib\\site-packages\\sklearn\\metrics\\_classification.py:1318: UndefinedMetricWarning: Precision and F-score are ill-defined and being set to 0.0 in labels with no predicted samples. Use `zero_division` parameter to control this behavior.\n",
      "  _warn_prf(average, modifier, msg_start, len(result))\n",
      "C:\\ProgramData\\Anaconda3\\lib\\site-packages\\sklearn\\metrics\\_classification.py:1318: UndefinedMetricWarning: Recall and F-score are ill-defined and being set to 0.0 in labels with no true samples. Use `zero_division` parameter to control this behavior.\n",
      "  _warn_prf(average, modifier, msg_start, len(result))\n",
      "C:\\ProgramData\\Anaconda3\\lib\\site-packages\\sklearn\\metrics\\_classification.py:1318: UndefinedMetricWarning: Precision and F-score are ill-defined and being set to 0.0 in labels with no predicted samples. Use `zero_division` parameter to control this behavior.\n",
      "  _warn_prf(average, modifier, msg_start, len(result))\n",
      "C:\\ProgramData\\Anaconda3\\lib\\site-packages\\sklearn\\metrics\\_classification.py:1318: UndefinedMetricWarning: Recall and F-score are ill-defined and being set to 0.0 in labels with no true samples. Use `zero_division` parameter to control this behavior.\n",
      "  _warn_prf(average, modifier, msg_start, len(result))\n",
      "C:\\ProgramData\\Anaconda3\\lib\\site-packages\\sklearn\\metrics\\_classification.py:1318: UndefinedMetricWarning: Precision and F-score are ill-defined and being set to 0.0 in labels with no predicted samples. Use `zero_division` parameter to control this behavior.\n",
      "  _warn_prf(average, modifier, msg_start, len(result))\n",
      "C:\\ProgramData\\Anaconda3\\lib\\site-packages\\sklearn\\metrics\\_classification.py:1318: UndefinedMetricWarning: Recall and F-score are ill-defined and being set to 0.0 in labels with no true samples. Use `zero_division` parameter to control this behavior.\n",
      "  _warn_prf(average, modifier, msg_start, len(result))\n"
     ]
    }
   ],
   "source": [
    "from sklearn.metrics import classification_report, confusion_matrix\n",
    "\n",
    "print(classification_report(y_test,predicted))"
   ]
  },
  {
   "cell_type": "markdown",
   "id": "a2677d4e-a577-4314-b50c-7533e11a6981",
   "metadata": {},
   "source": [
    "### Decision Tree Looks not good (Less Accuracy)"
   ]
  },
  {
   "cell_type": "code",
   "execution_count": 169,
   "id": "0d238a28-355b-4bef-a61b-74a8596c208c",
   "metadata": {
    "tags": []
   },
   "outputs": [
    {
     "data": {
      "text/plain": [
       "array([0.11549212, 0.01049537, 0.05432348, 0.0446633 , 0.26724769,\n",
       "       0.16984369, 0.02979514, 0.03812084, 0.01259352, 0.00317126,\n",
       "       0.00151012, 0.        , 0.00181215, 0.00129439, 0.02088902,\n",
       "       0.03971088, 0.05634435, 0.01508213, 0.01333943, 0.01834194,\n",
       "       0.0060405 , 0.00218916, 0.        , 0.00151012, 0.0060405 ,\n",
       "       0.02005989, 0.02517088, 0.01819406, 0.00672403, 0.        ,\n",
       "       0.        ])"
      ]
     },
     "execution_count": 169,
     "metadata": {},
     "output_type": "execute_result"
    }
   ],
   "source": [
    "dt.feature_importances_"
   ]
  },
  {
   "cell_type": "code",
   "execution_count": 171,
   "id": "f2537bf2-f2a0-4dc4-bd61-203a66316ffc",
   "metadata": {},
   "outputs": [
    {
     "data": {
      "text/plain": [
       "Text(0.5, 1.0, 'Plot the tree-based (or Gini) importance')"
      ]
     },
     "execution_count": 171,
     "metadata": {},
     "output_type": "execute_result"
    },
    {
     "data": {
      "image/png": "[encoded data removed]",
      "text/plain": [
       "<Figure size 864x432 with 1 Axes>"
      ]
     },
     "metadata": {
      "needs_background": "light"
     },
     "output_type": "display_data"
    }
   ],
   "source": [
    "feature_importance = dt.feature_importances_\n",
    "sorted_idx = np.argsort(feature_importance)\n",
    "fig = plt.figure(figsize=(12, 6))\n",
    "plt.barh(range(len(sorted_idx)), feature_importance[sorted_idx], align='center')\n",
    "plt.yticks(range(len(sorted_idx)), np.array(X_test.columns)[sorted_idx])\n",
    "plt.title('Plot the tree-based (or Gini) importance')"
   ]
  },
  {
   "cell_type": "markdown",
   "id": "48169744-b03a-492f-b7df-0eb5defbd8f3",
   "metadata": {},
   "source": [
    "# Conclusions"
   ]
  },
  {
   "cell_type": "markdown",
   "id": "d5040f04-25d3-482b-9570-af484bf2af7c",
   "metadata": {},
   "source": [
    "#### 1. I choose the result of Random Forest Regressor as it has better accuracy than other algorithm\n",
    "#### 2. The methods to find feature importance are Plot-Tree Based Importance, SHAP Importance, and Permutation Importance\n",
    "#### 3. According to the importances, log_Area, Area, and Per_Sqft are top features that affect the Price\n",
    "#### 4. Log_Area is the result of Log Transformation on Area variable, hence it same with Area\n",
    "#### 5. The Prices of houses in Delhi are mostly influenced by the size of the Area and the price per square feet\n",
    "#### 6. However, i think this two variable are to obvious, i need to see other variable below\n",
    "#### 7. The other importance variables are number of Bathroom, and Transaction. However their importance is less significant affecting the Price"
   ]
  },
  {
   "cell_type": "markdown",
   "id": "0ded4bdc-e3e9-41be-ac51-985a258b5f8a",
   "metadata": {},
   "source": [
    "# Recommendations"
   ]
  },
  {
   "cell_type": "markdown",
   "id": "46b7e664-2b4c-4988-9468-7efc332488d5",
   "metadata": {},
   "source": [
    "#### 1. There are possibility of using other algorithm of Machine Learning\n",
    "#### 2. There are also another way dealing with null values (Using imputation)\n",
    "#### 3. We can look at the previous data, such like the prices last year\n",
    "#### 4. The market price \"ignoring\" the house attributes and depending more on the size of the area\n",
    "#### 5. The data for house attributes price is necessary\n",
    "#### 6. Tracing monitoring the price movement area can help predict price changes\n",
    "#### 7. It's turned out that the prices are not affected whether is furnished or semi-furnished, and whether is new property or being re-sold"
   ]
  },
  {
   "cell_type": "markdown",
   "id": "f9526081-1f36-4fd6-9687-6ec0a5a980c2",
   "metadata": {},
   "source": [
    "# Thank You, your feedbacks are really important :)"
   ]
  },
  {
   "cell_type": "code",
   "execution_count": null,
   "id": "57a91f51-7c4a-4277-837b-ef04ab8e4bde",
   "metadata": {},
   "outputs": [],
   "source": []
  }
 ],
 "metadata": {
  "kernelspec": {
   "display_name": "Python 3 (ipykernel)",
   "language": "python",
   "name": "python3"
  },
  "language_info": {
   "codemirror_mode": {
    "name": "ipython",
    "version": 3
   },
   "file_extension": ".py",
   "mimetype": "text/x-python",
   "name": "python",
   "nbconvert_exporter": "python",
   "pygments_lexer": "ipython3",
   "version": "3.9.12"
  }
 },
 "nbformat": 4,
 "nbformat_minor": 5
}
